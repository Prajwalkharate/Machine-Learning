{
 "cells": [
  {
   "cell_type": "code",
   "execution_count": null,
   "id": "f4b86c1c-c10e-45b8-98d7-383a9bb5cea7",
   "metadata": {},
   "outputs": [],
   "source": [
    "# importing libraries "
   ]
  },
  {
   "cell_type": "code",
   "execution_count": 1,
   "id": "098864e3-ff3a-4196-827c-8ed064e08d10",
   "metadata": {},
   "outputs": [],
   "source": [
    "import pandas as pd\n",
    "import numpy as np\n",
    "import seaborn as snsb"
   ]
  },
  {
   "cell_type": "code",
   "execution_count": 48,
   "id": "bc137223-9960-49ab-9093-a00eea0f3cdb",
   "metadata": {},
   "outputs": [],
   "source": [
    "# accessing data files in jupyter notebook"
   ]
  },
  {
   "cell_type": "code",
   "execution_count": 2,
   "id": "c7cd457f-2436-42b1-8569-41ed19b77548",
   "metadata": {},
   "outputs": [
    {
     "data": {
      "text/html": [
       "<div>\n",
       "<style scoped>\n",
       "    .dataframe tbody tr th:only-of-type {\n",
       "        vertical-align: middle;\n",
       "    }\n",
       "\n",
       "    .dataframe tbody tr th {\n",
       "        vertical-align: top;\n",
       "    }\n",
       "\n",
       "    .dataframe thead th {\n",
       "        text-align: right;\n",
       "    }\n",
       "</style>\n",
       "<table border=\"1\" class=\"dataframe\">\n",
       "  <thead>\n",
       "    <tr style=\"text-align: right;\">\n",
       "      <th></th>\n",
       "      <th>Tier 1</th>\n",
       "      <th>Tier 2</th>\n",
       "      <th>Tier 3</th>\n",
       "    </tr>\n",
       "  </thead>\n",
       "  <tbody>\n",
       "    <tr>\n",
       "      <th>0</th>\n",
       "      <td>IIT Bombay</td>\n",
       "      <td>IIIT Bangalore</td>\n",
       "      <td>Ramaiah Institute of Technology, Bengaluru</td>\n",
       "    </tr>\n",
       "    <tr>\n",
       "      <th>1</th>\n",
       "      <td>IIT Delhi</td>\n",
       "      <td>IIIT Delhi</td>\n",
       "      <td>TIET/Thapar University</td>\n",
       "    </tr>\n",
       "    <tr>\n",
       "      <th>2</th>\n",
       "      <td>IIT Kharagpur</td>\n",
       "      <td>IGDTUW</td>\n",
       "      <td>Manipal Main Campus</td>\n",
       "    </tr>\n",
       "    <tr>\n",
       "      <th>3</th>\n",
       "      <td>IIT Madras</td>\n",
       "      <td>NIT Calicut</td>\n",
       "      <td>VIT Vellore</td>\n",
       "    </tr>\n",
       "    <tr>\n",
       "      <th>4</th>\n",
       "      <td>IIT Kanpur</td>\n",
       "      <td>IIITM Gwalior</td>\n",
       "      <td>SRM Main Campus</td>\n",
       "    </tr>\n",
       "    <tr>\n",
       "      <th>5</th>\n",
       "      <td>IIT Roorkee</td>\n",
       "      <td>IIIT Lucknow</td>\n",
       "      <td>KIIT, Bhubaneswar</td>\n",
       "    </tr>\n",
       "    <tr>\n",
       "      <th>6</th>\n",
       "      <td>IIT Guwahati</td>\n",
       "      <td>MNNIT Allahabad</td>\n",
       "      <td>Amity University</td>\n",
       "    </tr>\n",
       "    <tr>\n",
       "      <th>7</th>\n",
       "      <td>IIIT Hyderabad</td>\n",
       "      <td>Punjab Engineering College</td>\n",
       "      <td>BMS College, Bangalore</td>\n",
       "    </tr>\n",
       "    <tr>\n",
       "      <th>8</th>\n",
       "      <td>BITS Pilani (Pilani Campus)</td>\n",
       "      <td>DAIICT</td>\n",
       "      <td>PES University, Bangalore</td>\n",
       "    </tr>\n",
       "    <tr>\n",
       "      <th>9</th>\n",
       "      <td>IIT Indore</td>\n",
       "      <td>MNIT Jaipur</td>\n",
       "      <td>USIT, Delhi</td>\n",
       "    </tr>\n",
       "    <tr>\n",
       "      <th>10</th>\n",
       "      <td>IIT Ropar</td>\n",
       "      <td>NIT Durgapur</td>\n",
       "      <td>MAIT, Delhi</td>\n",
       "    </tr>\n",
       "    <tr>\n",
       "      <th>11</th>\n",
       "      <td>IIT BHU (Varanasi)</td>\n",
       "      <td>VNIT Nagpur</td>\n",
       "      <td>MSIT, Delhi</td>\n",
       "    </tr>\n",
       "    <tr>\n",
       "      <th>12</th>\n",
       "      <td>IIT ISM Dhanbad</td>\n",
       "      <td>LNMIIT</td>\n",
       "      <td>Dayanand College of Engineering, Bangalore</td>\n",
       "    </tr>\n",
       "    <tr>\n",
       "      <th>13</th>\n",
       "      <td>DTU</td>\n",
       "      <td>BIT Mesra</td>\n",
       "      <td>Heritage Institute of Technology, Kolkata</td>\n",
       "    </tr>\n",
       "    <tr>\n",
       "      <th>14</th>\n",
       "      <td>NSUT Delhi (NSIT)</td>\n",
       "      <td>SVNIT Surat</td>\n",
       "      <td>IEM, Kolkata</td>\n",
       "    </tr>\n",
       "    <tr>\n",
       "      <th>15</th>\n",
       "      <td>NIT Tiruchipally (Trichy)</td>\n",
       "      <td>NIT Jalandhar</td>\n",
       "      <td>Techno India, Kolkata</td>\n",
       "    </tr>\n",
       "    <tr>\n",
       "      <th>16</th>\n",
       "      <td>NIT Warangal</td>\n",
       "      <td>NIT Jamshedpur</td>\n",
       "      <td>Jaypee, Noida</td>\n",
       "    </tr>\n",
       "    <tr>\n",
       "      <th>17</th>\n",
       "      <td>NIT Surathkal (Karnataka)</td>\n",
       "      <td>NIT Kurukshetra</td>\n",
       "      <td>Amrita University, Coimbatore</td>\n",
       "    </tr>\n",
       "    <tr>\n",
       "      <th>18</th>\n",
       "      <td>Jadavpur University</td>\n",
       "      <td>NIT Patna</td>\n",
       "      <td>Cummins College of Engineering for Women, Pune</td>\n",
       "    </tr>\n",
       "    <tr>\n",
       "      <th>19</th>\n",
       "      <td>BITS Pilani (Hyderabad Campus)</td>\n",
       "      <td>NIT Raipur</td>\n",
       "      <td>NaN</td>\n",
       "    </tr>\n",
       "    <tr>\n",
       "      <th>20</th>\n",
       "      <td>BITS Pilani (Goa Campus)</td>\n",
       "      <td>NIT Bhopal</td>\n",
       "      <td>NaN</td>\n",
       "    </tr>\n",
       "    <tr>\n",
       "      <th>21</th>\n",
       "      <td>IIIT Allahabad</td>\n",
       "      <td>NIT Rourkela</td>\n",
       "      <td>NaN</td>\n",
       "    </tr>\n",
       "    <tr>\n",
       "      <th>22</th>\n",
       "      <td>NaN</td>\n",
       "      <td>NIT Silchar</td>\n",
       "      <td>NaN</td>\n",
       "    </tr>\n",
       "    <tr>\n",
       "      <th>23</th>\n",
       "      <td>NaN</td>\n",
       "      <td>NIT Sikkim</td>\n",
       "      <td>NaN</td>\n",
       "    </tr>\n",
       "    <tr>\n",
       "      <th>24</th>\n",
       "      <td>NaN</td>\n",
       "      <td>IIIT Jabalpur</td>\n",
       "      <td>NaN</td>\n",
       "    </tr>\n",
       "    <tr>\n",
       "      <th>25</th>\n",
       "      <td>NaN</td>\n",
       "      <td>Jalpaiguri Government Engineering College</td>\n",
       "      <td>NaN</td>\n",
       "    </tr>\n",
       "    <tr>\n",
       "      <th>26</th>\n",
       "      <td>NaN</td>\n",
       "      <td>IIEST/BESU Shibpur</td>\n",
       "      <td>NaN</td>\n",
       "    </tr>\n",
       "    <tr>\n",
       "      <th>27</th>\n",
       "      <td>NaN</td>\n",
       "      <td>R.V. College of Engineering</td>\n",
       "      <td>NaN</td>\n",
       "    </tr>\n",
       "  </tbody>\n",
       "</table>\n",
       "</div>"
      ],
      "text/plain": [
       "                            Tier 1                                     Tier 2  \\\n",
       "0                       IIT Bombay                             IIIT Bangalore   \n",
       "1                        IIT Delhi                                 IIIT Delhi   \n",
       "2                    IIT Kharagpur                                     IGDTUW   \n",
       "3                       IIT Madras                                NIT Calicut   \n",
       "4                       IIT Kanpur                              IIITM Gwalior   \n",
       "5                      IIT Roorkee                               IIIT Lucknow   \n",
       "6                     IIT Guwahati                            MNNIT Allahabad   \n",
       "7                   IIIT Hyderabad                 Punjab Engineering College   \n",
       "8      BITS Pilani (Pilani Campus)                                     DAIICT   \n",
       "9                       IIT Indore                                MNIT Jaipur   \n",
       "10                       IIT Ropar                               NIT Durgapur   \n",
       "11              IIT BHU (Varanasi)                                VNIT Nagpur   \n",
       "12                 IIT ISM Dhanbad                                     LNMIIT   \n",
       "13                             DTU                                  BIT Mesra   \n",
       "14               NSUT Delhi (NSIT)                                SVNIT Surat   \n",
       "15       NIT Tiruchipally (Trichy)                              NIT Jalandhar   \n",
       "16                    NIT Warangal                             NIT Jamshedpur   \n",
       "17       NIT Surathkal (Karnataka)                            NIT Kurukshetra   \n",
       "18             Jadavpur University                                  NIT Patna   \n",
       "19  BITS Pilani (Hyderabad Campus)                                 NIT Raipur   \n",
       "20        BITS Pilani (Goa Campus)                                 NIT Bhopal   \n",
       "21                  IIIT Allahabad                               NIT Rourkela   \n",
       "22                             NaN                                NIT Silchar   \n",
       "23                             NaN                                 NIT Sikkim   \n",
       "24                             NaN                              IIIT Jabalpur   \n",
       "25                             NaN  Jalpaiguri Government Engineering College   \n",
       "26                             NaN                         IIEST/BESU Shibpur   \n",
       "27                             NaN                R.V. College of Engineering   \n",
       "\n",
       "                                            Tier 3  \n",
       "0       Ramaiah Institute of Technology, Bengaluru  \n",
       "1                           TIET/Thapar University  \n",
       "2                              Manipal Main Campus  \n",
       "3                                      VIT Vellore  \n",
       "4                                  SRM Main Campus  \n",
       "5                                KIIT, Bhubaneswar  \n",
       "6                                 Amity University  \n",
       "7                           BMS College, Bangalore  \n",
       "8                        PES University, Bangalore  \n",
       "9                                      USIT, Delhi  \n",
       "10                                     MAIT, Delhi  \n",
       "11                                     MSIT, Delhi  \n",
       "12      Dayanand College of Engineering, Bangalore  \n",
       "13       Heritage Institute of Technology, Kolkata  \n",
       "14                                    IEM, Kolkata  \n",
       "15                           Techno India, Kolkata  \n",
       "16                                   Jaypee, Noida  \n",
       "17                   Amrita University, Coimbatore  \n",
       "18  Cummins College of Engineering for Women, Pune  \n",
       "19                                             NaN  \n",
       "20                                             NaN  \n",
       "21                                             NaN  \n",
       "22                                             NaN  \n",
       "23                                             NaN  \n",
       "24                                             NaN  \n",
       "25                                             NaN  \n",
       "26                                             NaN  \n",
       "27                                             NaN  "
      ]
     },
     "execution_count": 2,
     "metadata": {},
     "output_type": "execute_result"
    }
   ],
   "source": [
    "Colleges = pd.read_csv(\"C:\\\\Users\\\\prajw\\\\OneDrive\\\\Desktop\\\\ml project\\\\Colleges.csv\")\n",
    "Colleges"
   ]
  },
  {
   "cell_type": "code",
   "execution_count": 3,
   "id": "6628bb1b-d1a3-47ca-984f-6b212962dfaf",
   "metadata": {},
   "outputs": [
    {
     "data": {
      "text/plain": [
       "Tier 1    6\n",
       "Tier 2    0\n",
       "Tier 3    9\n",
       "dtype: int64"
      ]
     },
     "execution_count": 3,
     "metadata": {},
     "output_type": "execute_result"
    }
   ],
   "source": [
    "Colleges.isnull().sum()"
   ]
  },
  {
   "cell_type": "code",
   "execution_count": 4,
   "id": "5ac0bbab-6f2d-43bc-9f1d-940e8f183c3e",
   "metadata": {},
   "outputs": [
    {
     "data": {
      "text/html": [
       "<div>\n",
       "<style scoped>\n",
       "    .dataframe tbody tr th:only-of-type {\n",
       "        vertical-align: middle;\n",
       "    }\n",
       "\n",
       "    .dataframe tbody tr th {\n",
       "        vertical-align: top;\n",
       "    }\n",
       "\n",
       "    .dataframe thead th {\n",
       "        text-align: right;\n",
       "    }\n",
       "</style>\n",
       "<table border=\"1\" class=\"dataframe\">\n",
       "  <thead>\n",
       "    <tr style=\"text-align: right;\">\n",
       "      <th></th>\n",
       "      <th>Tier 1</th>\n",
       "      <th>Tier 2</th>\n",
       "      <th>Tier 3</th>\n",
       "    </tr>\n",
       "  </thead>\n",
       "  <tbody>\n",
       "    <tr>\n",
       "      <th>0</th>\n",
       "      <td>IIT Bombay</td>\n",
       "      <td>IIIT Bangalore</td>\n",
       "      <td>Ramaiah Institute of Technology, Bengaluru</td>\n",
       "    </tr>\n",
       "    <tr>\n",
       "      <th>1</th>\n",
       "      <td>IIT Delhi</td>\n",
       "      <td>IIIT Delhi</td>\n",
       "      <td>TIET/Thapar University</td>\n",
       "    </tr>\n",
       "    <tr>\n",
       "      <th>2</th>\n",
       "      <td>IIT Kharagpur</td>\n",
       "      <td>IGDTUW</td>\n",
       "      <td>Manipal Main Campus</td>\n",
       "    </tr>\n",
       "    <tr>\n",
       "      <th>3</th>\n",
       "      <td>IIT Madras</td>\n",
       "      <td>NIT Calicut</td>\n",
       "      <td>VIT Vellore</td>\n",
       "    </tr>\n",
       "    <tr>\n",
       "      <th>4</th>\n",
       "      <td>IIT Kanpur</td>\n",
       "      <td>IIITM Gwalior</td>\n",
       "      <td>SRM Main Campus</td>\n",
       "    </tr>\n",
       "    <tr>\n",
       "      <th>5</th>\n",
       "      <td>IIT Roorkee</td>\n",
       "      <td>IIIT Lucknow</td>\n",
       "      <td>KIIT, Bhubaneswar</td>\n",
       "    </tr>\n",
       "    <tr>\n",
       "      <th>6</th>\n",
       "      <td>IIT Guwahati</td>\n",
       "      <td>MNNIT Allahabad</td>\n",
       "      <td>Amity University</td>\n",
       "    </tr>\n",
       "    <tr>\n",
       "      <th>7</th>\n",
       "      <td>IIIT Hyderabad</td>\n",
       "      <td>Punjab Engineering College</td>\n",
       "      <td>BMS College, Bangalore</td>\n",
       "    </tr>\n",
       "    <tr>\n",
       "      <th>8</th>\n",
       "      <td>BITS Pilani (Pilani Campus)</td>\n",
       "      <td>DAIICT</td>\n",
       "      <td>PES University, Bangalore</td>\n",
       "    </tr>\n",
       "    <tr>\n",
       "      <th>9</th>\n",
       "      <td>IIT Indore</td>\n",
       "      <td>MNIT Jaipur</td>\n",
       "      <td>USIT, Delhi</td>\n",
       "    </tr>\n",
       "    <tr>\n",
       "      <th>10</th>\n",
       "      <td>IIT Ropar</td>\n",
       "      <td>NIT Durgapur</td>\n",
       "      <td>MAIT, Delhi</td>\n",
       "    </tr>\n",
       "    <tr>\n",
       "      <th>11</th>\n",
       "      <td>IIT BHU (Varanasi)</td>\n",
       "      <td>VNIT Nagpur</td>\n",
       "      <td>MSIT, Delhi</td>\n",
       "    </tr>\n",
       "    <tr>\n",
       "      <th>12</th>\n",
       "      <td>IIT ISM Dhanbad</td>\n",
       "      <td>LNMIIT</td>\n",
       "      <td>Dayanand College of Engineering, Bangalore</td>\n",
       "    </tr>\n",
       "    <tr>\n",
       "      <th>13</th>\n",
       "      <td>DTU</td>\n",
       "      <td>BIT Mesra</td>\n",
       "      <td>Heritage Institute of Technology, Kolkata</td>\n",
       "    </tr>\n",
       "    <tr>\n",
       "      <th>14</th>\n",
       "      <td>NSUT Delhi (NSIT)</td>\n",
       "      <td>SVNIT Surat</td>\n",
       "      <td>IEM, Kolkata</td>\n",
       "    </tr>\n",
       "    <tr>\n",
       "      <th>15</th>\n",
       "      <td>NIT Tiruchipally (Trichy)</td>\n",
       "      <td>NIT Jalandhar</td>\n",
       "      <td>Techno India, Kolkata</td>\n",
       "    </tr>\n",
       "    <tr>\n",
       "      <th>16</th>\n",
       "      <td>NIT Warangal</td>\n",
       "      <td>NIT Jamshedpur</td>\n",
       "      <td>Jaypee, Noida</td>\n",
       "    </tr>\n",
       "    <tr>\n",
       "      <th>17</th>\n",
       "      <td>NIT Surathkal (Karnataka)</td>\n",
       "      <td>NIT Kurukshetra</td>\n",
       "      <td>Amrita University, Coimbatore</td>\n",
       "    </tr>\n",
       "    <tr>\n",
       "      <th>18</th>\n",
       "      <td>Jadavpur University</td>\n",
       "      <td>NIT Patna</td>\n",
       "      <td>Cummins College of Engineering for Women, Pune</td>\n",
       "    </tr>\n",
       "    <tr>\n",
       "      <th>19</th>\n",
       "      <td>BITS Pilani (Hyderabad Campus)</td>\n",
       "      <td>NIT Raipur</td>\n",
       "      <td>Cummins College of Engineering for Women, Pune</td>\n",
       "    </tr>\n",
       "    <tr>\n",
       "      <th>20</th>\n",
       "      <td>BITS Pilani (Goa Campus)</td>\n",
       "      <td>NIT Bhopal</td>\n",
       "      <td>Cummins College of Engineering for Women, Pune</td>\n",
       "    </tr>\n",
       "    <tr>\n",
       "      <th>21</th>\n",
       "      <td>IIIT Allahabad</td>\n",
       "      <td>NIT Rourkela</td>\n",
       "      <td>Cummins College of Engineering for Women, Pune</td>\n",
       "    </tr>\n",
       "    <tr>\n",
       "      <th>22</th>\n",
       "      <td>IIIT Allahabad</td>\n",
       "      <td>NIT Silchar</td>\n",
       "      <td>Cummins College of Engineering for Women, Pune</td>\n",
       "    </tr>\n",
       "    <tr>\n",
       "      <th>23</th>\n",
       "      <td>IIIT Allahabad</td>\n",
       "      <td>NIT Sikkim</td>\n",
       "      <td>Cummins College of Engineering for Women, Pune</td>\n",
       "    </tr>\n",
       "    <tr>\n",
       "      <th>24</th>\n",
       "      <td>IIIT Allahabad</td>\n",
       "      <td>IIIT Jabalpur</td>\n",
       "      <td>Cummins College of Engineering for Women, Pune</td>\n",
       "    </tr>\n",
       "    <tr>\n",
       "      <th>25</th>\n",
       "      <td>IIIT Allahabad</td>\n",
       "      <td>Jalpaiguri Government Engineering College</td>\n",
       "      <td>Cummins College of Engineering for Women, Pune</td>\n",
       "    </tr>\n",
       "    <tr>\n",
       "      <th>26</th>\n",
       "      <td>IIIT Allahabad</td>\n",
       "      <td>IIEST/BESU Shibpur</td>\n",
       "      <td>Cummins College of Engineering for Women, Pune</td>\n",
       "    </tr>\n",
       "    <tr>\n",
       "      <th>27</th>\n",
       "      <td>IIIT Allahabad</td>\n",
       "      <td>R.V. College of Engineering</td>\n",
       "      <td>Cummins College of Engineering for Women, Pune</td>\n",
       "    </tr>\n",
       "  </tbody>\n",
       "</table>\n",
       "</div>"
      ],
      "text/plain": [
       "                            Tier 1                                     Tier 2  \\\n",
       "0                       IIT Bombay                             IIIT Bangalore   \n",
       "1                        IIT Delhi                                 IIIT Delhi   \n",
       "2                    IIT Kharagpur                                     IGDTUW   \n",
       "3                       IIT Madras                                NIT Calicut   \n",
       "4                       IIT Kanpur                              IIITM Gwalior   \n",
       "5                      IIT Roorkee                               IIIT Lucknow   \n",
       "6                     IIT Guwahati                            MNNIT Allahabad   \n",
       "7                   IIIT Hyderabad                 Punjab Engineering College   \n",
       "8      BITS Pilani (Pilani Campus)                                     DAIICT   \n",
       "9                       IIT Indore                                MNIT Jaipur   \n",
       "10                       IIT Ropar                               NIT Durgapur   \n",
       "11              IIT BHU (Varanasi)                                VNIT Nagpur   \n",
       "12                 IIT ISM Dhanbad                                     LNMIIT   \n",
       "13                             DTU                                  BIT Mesra   \n",
       "14               NSUT Delhi (NSIT)                                SVNIT Surat   \n",
       "15       NIT Tiruchipally (Trichy)                              NIT Jalandhar   \n",
       "16                    NIT Warangal                             NIT Jamshedpur   \n",
       "17       NIT Surathkal (Karnataka)                            NIT Kurukshetra   \n",
       "18             Jadavpur University                                  NIT Patna   \n",
       "19  BITS Pilani (Hyderabad Campus)                                 NIT Raipur   \n",
       "20        BITS Pilani (Goa Campus)                                 NIT Bhopal   \n",
       "21                  IIIT Allahabad                               NIT Rourkela   \n",
       "22                  IIIT Allahabad                                NIT Silchar   \n",
       "23                  IIIT Allahabad                                 NIT Sikkim   \n",
       "24                  IIIT Allahabad                              IIIT Jabalpur   \n",
       "25                  IIIT Allahabad  Jalpaiguri Government Engineering College   \n",
       "26                  IIIT Allahabad                         IIEST/BESU Shibpur   \n",
       "27                  IIIT Allahabad                R.V. College of Engineering   \n",
       "\n",
       "                                            Tier 3  \n",
       "0       Ramaiah Institute of Technology, Bengaluru  \n",
       "1                           TIET/Thapar University  \n",
       "2                              Manipal Main Campus  \n",
       "3                                      VIT Vellore  \n",
       "4                                  SRM Main Campus  \n",
       "5                                KIIT, Bhubaneswar  \n",
       "6                                 Amity University  \n",
       "7                           BMS College, Bangalore  \n",
       "8                        PES University, Bangalore  \n",
       "9                                      USIT, Delhi  \n",
       "10                                     MAIT, Delhi  \n",
       "11                                     MSIT, Delhi  \n",
       "12      Dayanand College of Engineering, Bangalore  \n",
       "13       Heritage Institute of Technology, Kolkata  \n",
       "14                                    IEM, Kolkata  \n",
       "15                           Techno India, Kolkata  \n",
       "16                                   Jaypee, Noida  \n",
       "17                   Amrita University, Coimbatore  \n",
       "18  Cummins College of Engineering for Women, Pune  \n",
       "19  Cummins College of Engineering for Women, Pune  \n",
       "20  Cummins College of Engineering for Women, Pune  \n",
       "21  Cummins College of Engineering for Women, Pune  \n",
       "22  Cummins College of Engineering for Women, Pune  \n",
       "23  Cummins College of Engineering for Women, Pune  \n",
       "24  Cummins College of Engineering for Women, Pune  \n",
       "25  Cummins College of Engineering for Women, Pune  \n",
       "26  Cummins College of Engineering for Women, Pune  \n",
       "27  Cummins College of Engineering for Women, Pune  "
      ]
     },
     "execution_count": 4,
     "metadata": {},
     "output_type": "execute_result"
    }
   ],
   "source": [
    "Colleges = Colleges.ffill()\n",
    "Colleges\n"
   ]
  },
  {
   "cell_type": "code",
   "execution_count": 52,
   "id": "d00bbc07-b23b-4c07-86c1-659db9a2db03",
   "metadata": {},
   "outputs": [
    {
     "data": {
      "text/plain": [
       "Tier 1    0\n",
       "Tier 2    0\n",
       "Tier 3    0\n",
       "dtype: int64"
      ]
     },
     "execution_count": 52,
     "metadata": {},
     "output_type": "execute_result"
    }
   ],
   "source": [
    "Colleges.isnull().sum()   #again checking for null values"
   ]
  },
  {
   "cell_type": "code",
   "execution_count": 5,
   "id": "f5fef9e6-2835-4167-a757-c5876f96228b",
   "metadata": {},
   "outputs": [
    {
     "data": {
      "text/html": [
       "<div>\n",
       "<style scoped>\n",
       "    .dataframe tbody tr th:only-of-type {\n",
       "        vertical-align: middle;\n",
       "    }\n",
       "\n",
       "    .dataframe tbody tr th {\n",
       "        vertical-align: top;\n",
       "    }\n",
       "\n",
       "    .dataframe thead th {\n",
       "        text-align: right;\n",
       "    }\n",
       "</style>\n",
       "<table border=\"1\" class=\"dataframe\">\n",
       "  <thead>\n",
       "    <tr style=\"text-align: right;\">\n",
       "      <th></th>\n",
       "      <th>College</th>\n",
       "      <th>City</th>\n",
       "      <th>Role</th>\n",
       "      <th>Previous CTC</th>\n",
       "      <th>Previous job change</th>\n",
       "      <th>Graduation Marks</th>\n",
       "      <th>EXP (Month)</th>\n",
       "      <th>CTC</th>\n",
       "    </tr>\n",
       "  </thead>\n",
       "  <tbody>\n",
       "    <tr>\n",
       "      <th>0</th>\n",
       "      <td>SVNIT Surat</td>\n",
       "      <td>Asansol</td>\n",
       "      <td>Manager</td>\n",
       "      <td>55523.0</td>\n",
       "      <td>3</td>\n",
       "      <td>66</td>\n",
       "      <td>19</td>\n",
       "      <td>71406.58</td>\n",
       "    </tr>\n",
       "    <tr>\n",
       "      <th>1</th>\n",
       "      <td>NIT Bhopal</td>\n",
       "      <td>Ajmer</td>\n",
       "      <td>Executive</td>\n",
       "      <td>57081.0</td>\n",
       "      <td>1</td>\n",
       "      <td>84</td>\n",
       "      <td>18</td>\n",
       "      <td>68005.87</td>\n",
       "    </tr>\n",
       "    <tr>\n",
       "      <th>2</th>\n",
       "      <td>IEM, Kolkata</td>\n",
       "      <td>Rajpur Sonarpur</td>\n",
       "      <td>Executive</td>\n",
       "      <td>60347.0</td>\n",
       "      <td>2</td>\n",
       "      <td>52</td>\n",
       "      <td>28</td>\n",
       "      <td>76764.02</td>\n",
       "    </tr>\n",
       "    <tr>\n",
       "      <th>3</th>\n",
       "      <td>KIIT, Bhubaneswar</td>\n",
       "      <td>Ajmer</td>\n",
       "      <td>Executive</td>\n",
       "      <td>49010.0</td>\n",
       "      <td>2</td>\n",
       "      <td>81</td>\n",
       "      <td>33</td>\n",
       "      <td>82092.39</td>\n",
       "    </tr>\n",
       "    <tr>\n",
       "      <th>4</th>\n",
       "      <td>DTU</td>\n",
       "      <td>Durgapur</td>\n",
       "      <td>Executive</td>\n",
       "      <td>57879.0</td>\n",
       "      <td>4</td>\n",
       "      <td>74</td>\n",
       "      <td>32</td>\n",
       "      <td>73878.10</td>\n",
       "    </tr>\n",
       "    <tr>\n",
       "      <th>...</th>\n",
       "      <td>...</td>\n",
       "      <td>...</td>\n",
       "      <td>...</td>\n",
       "      <td>...</td>\n",
       "      <td>...</td>\n",
       "      <td>...</td>\n",
       "      <td>...</td>\n",
       "      <td>...</td>\n",
       "    </tr>\n",
       "    <tr>\n",
       "      <th>1584</th>\n",
       "      <td>BITS Pilani (Goa Campus)</td>\n",
       "      <td>Surat</td>\n",
       "      <td>Executive</td>\n",
       "      <td>61285.0</td>\n",
       "      <td>3</td>\n",
       "      <td>44</td>\n",
       "      <td>60</td>\n",
       "      <td>77283.59</td>\n",
       "    </tr>\n",
       "    <tr>\n",
       "      <th>1585</th>\n",
       "      <td>NIT Warangal</td>\n",
       "      <td>Rajpur Sonarpur</td>\n",
       "      <td>Executive</td>\n",
       "      <td>63140.0</td>\n",
       "      <td>1</td>\n",
       "      <td>44</td>\n",
       "      <td>24</td>\n",
       "      <td>68416.86</td>\n",
       "    </tr>\n",
       "    <tr>\n",
       "      <th>1586</th>\n",
       "      <td>NIT Tiruchipally (Trichy)</td>\n",
       "      <td>Ahmedabad</td>\n",
       "      <td>Executive</td>\n",
       "      <td>44907.0</td>\n",
       "      <td>1</td>\n",
       "      <td>60</td>\n",
       "      <td>19</td>\n",
       "      <td>70186.19</td>\n",
       "    </tr>\n",
       "    <tr>\n",
       "      <th>1587</th>\n",
       "      <td>IIIT Hyderabad</td>\n",
       "      <td>Durgapur</td>\n",
       "      <td>Executive</td>\n",
       "      <td>52054.0</td>\n",
       "      <td>2</td>\n",
       "      <td>67</td>\n",
       "      <td>29</td>\n",
       "      <td>73394.09</td>\n",
       "    </tr>\n",
       "    <tr>\n",
       "      <th>1588</th>\n",
       "      <td>R.V. College of Engineering</td>\n",
       "      <td>Delhi</td>\n",
       "      <td>Manager</td>\n",
       "      <td>44353.0</td>\n",
       "      <td>3</td>\n",
       "      <td>75</td>\n",
       "      <td>18</td>\n",
       "      <td>70056.31</td>\n",
       "    </tr>\n",
       "  </tbody>\n",
       "</table>\n",
       "<p>1589 rows × 8 columns</p>\n",
       "</div>"
      ],
      "text/plain": [
       "                          College             City       Role  Previous CTC  \\\n",
       "0                     SVNIT Surat          Asansol    Manager       55523.0   \n",
       "1                      NIT Bhopal            Ajmer  Executive       57081.0   \n",
       "2                    IEM, Kolkata  Rajpur Sonarpur  Executive       60347.0   \n",
       "3               KIIT, Bhubaneswar            Ajmer  Executive       49010.0   \n",
       "4                             DTU         Durgapur  Executive       57879.0   \n",
       "...                           ...              ...        ...           ...   \n",
       "1584     BITS Pilani (Goa Campus)            Surat  Executive       61285.0   \n",
       "1585                 NIT Warangal  Rajpur Sonarpur  Executive       63140.0   \n",
       "1586    NIT Tiruchipally (Trichy)        Ahmedabad  Executive       44907.0   \n",
       "1587               IIIT Hyderabad         Durgapur  Executive       52054.0   \n",
       "1588  R.V. College of Engineering            Delhi    Manager       44353.0   \n",
       "\n",
       "      Previous job change  Graduation Marks  EXP (Month)       CTC  \n",
       "0                       3                66           19  71406.58  \n",
       "1                       1                84           18  68005.87  \n",
       "2                       2                52           28  76764.02  \n",
       "3                       2                81           33  82092.39  \n",
       "4                       4                74           32  73878.10  \n",
       "...                   ...               ...          ...       ...  \n",
       "1584                    3                44           60  77283.59  \n",
       "1585                    1                44           24  68416.86  \n",
       "1586                    1                60           19  70186.19  \n",
       "1587                    2                67           29  73394.09  \n",
       "1588                    3                75           18  70056.31  \n",
       "\n",
       "[1589 rows x 8 columns]"
      ]
     },
     "execution_count": 5,
     "metadata": {},
     "output_type": "execute_result"
    }
   ],
   "source": [
    "#printing the ML case study file\n",
    "df =  pd.read_csv(\"C:\\\\Users\\\\prajw\\\\OneDrive\\\\Desktop\\\\ml project\\\\ML case Study.csv\")\n",
    "df"
   ]
  },
  {
   "cell_type": "code",
   "execution_count": 6,
   "id": "b9a4ee5f-f628-4cea-ae50-eb28f4885642",
   "metadata": {},
   "outputs": [
    {
     "data": {
      "text/plain": [
       "College                0\n",
       "City                   0\n",
       "Role                   0\n",
       "Previous CTC           0\n",
       "Previous job change    0\n",
       "Graduation Marks       0\n",
       "EXP (Month)            0\n",
       "CTC                    0\n",
       "dtype: int64"
      ]
     },
     "execution_count": 6,
     "metadata": {},
     "output_type": "execute_result"
    }
   ],
   "source": [
    "df.isnull().sum()  \n",
    "#checking for null values "
   ]
  },
  {
   "cell_type": "code",
   "execution_count": 55,
   "id": "70d5715a-ba4d-4bbb-ab6c-102ef9d45a18",
   "metadata": {},
   "outputs": [],
   "source": [
    "# converting colleges csv file in list using tolist function "
   ]
  },
  {
   "cell_type": "code",
   "execution_count": 7,
   "id": "afbce747-cf85-488d-818d-8ce40888df15",
   "metadata": {},
   "outputs": [],
   "source": [
    "Tier_1 = Colleges[\"Tier 1\"].tolist()\n",
    "Tier_2 = Colleges[\"Tier 2\"].tolist()\n",
    "Tier_3 = Colleges[\"Tier 3\"].tolist()"
   ]
  },
  {
   "cell_type": "code",
   "execution_count": 8,
   "id": "f2ab4a1b-0cf7-4c59-8b4e-a546093462aa",
   "metadata": {},
   "outputs": [
    {
     "data": {
      "text/plain": [
       "['IIIT Bangalore',\n",
       " 'IIIT Delhi',\n",
       " 'IGDTUW',\n",
       " 'NIT Calicut',\n",
       " 'IIITM Gwalior',\n",
       " 'IIIT Lucknow',\n",
       " 'MNNIT Allahabad',\n",
       " 'Punjab Engineering College',\n",
       " 'DAIICT',\n",
       " 'MNIT Jaipur',\n",
       " 'NIT Durgapur',\n",
       " 'VNIT Nagpur',\n",
       " 'LNMIIT',\n",
       " 'BIT Mesra',\n",
       " 'SVNIT Surat',\n",
       " 'NIT Jalandhar',\n",
       " 'NIT Jamshedpur',\n",
       " 'NIT Kurukshetra',\n",
       " 'NIT Patna',\n",
       " 'NIT Raipur',\n",
       " 'NIT Bhopal',\n",
       " 'NIT Rourkela',\n",
       " 'NIT Silchar',\n",
       " 'NIT Sikkim',\n",
       " 'IIIT Jabalpur',\n",
       " 'Jalpaiguri Government Engineering College',\n",
       " 'IIEST/BESU Shibpur',\n",
       " 'R.V. College of Engineering']"
      ]
     },
     "execution_count": 8,
     "metadata": {},
     "output_type": "execute_result"
    }
   ],
   "source": [
    "Tier_1\n",
    "Tier_2"
   ]
  },
  {
   "cell_type": "code",
   "execution_count": 9,
   "id": "d27ced6d-78ce-475c-baa9-828c022c9943",
   "metadata": {},
   "outputs": [],
   "source": [
    "for item in df.College:\n",
    "    if item in Tier_1:\n",
    "        df['College'].replace(item,1,inplace = True)\n",
    "    elif item in Tier_2:\n",
    "        df['College'].replace(item,2,inplace = True)\n",
    "    elif item in Tier_3:\n",
    "        df['College'].replace(item,3,inplace = True)\n",
    "        # using for loop replacing item with 1,2,3 \n",
    "        "
   ]
  },
  {
   "cell_type": "code",
   "execution_count": 59,
   "id": "41742825-20b2-4a33-8fae-ee15a15d2fcb",
   "metadata": {},
   "outputs": [],
   "source": [
    "# created dummy variable for college filed"
   ]
  },
  {
   "cell_type": "code",
   "execution_count": 10,
   "id": "1c151aad-0f76-4d50-b202-85bd0642b3db",
   "metadata": {},
   "outputs": [
    {
     "data": {
      "text/html": [
       "<div>\n",
       "<style scoped>\n",
       "    .dataframe tbody tr th:only-of-type {\n",
       "        vertical-align: middle;\n",
       "    }\n",
       "\n",
       "    .dataframe tbody tr th {\n",
       "        vertical-align: top;\n",
       "    }\n",
       "\n",
       "    .dataframe thead th {\n",
       "        text-align: right;\n",
       "    }\n",
       "</style>\n",
       "<table border=\"1\" class=\"dataframe\">\n",
       "  <thead>\n",
       "    <tr style=\"text-align: right;\">\n",
       "      <th></th>\n",
       "      <th>College</th>\n",
       "      <th>City</th>\n",
       "      <th>Role</th>\n",
       "      <th>Previous CTC</th>\n",
       "      <th>Previous job change</th>\n",
       "      <th>Graduation Marks</th>\n",
       "      <th>EXP (Month)</th>\n",
       "      <th>CTC</th>\n",
       "    </tr>\n",
       "  </thead>\n",
       "  <tbody>\n",
       "    <tr>\n",
       "      <th>0</th>\n",
       "      <td>2</td>\n",
       "      <td>Asansol</td>\n",
       "      <td>Manager</td>\n",
       "      <td>55523.0</td>\n",
       "      <td>3</td>\n",
       "      <td>66</td>\n",
       "      <td>19</td>\n",
       "      <td>71406.58</td>\n",
       "    </tr>\n",
       "    <tr>\n",
       "      <th>1</th>\n",
       "      <td>2</td>\n",
       "      <td>Ajmer</td>\n",
       "      <td>Executive</td>\n",
       "      <td>57081.0</td>\n",
       "      <td>1</td>\n",
       "      <td>84</td>\n",
       "      <td>18</td>\n",
       "      <td>68005.87</td>\n",
       "    </tr>\n",
       "    <tr>\n",
       "      <th>2</th>\n",
       "      <td>3</td>\n",
       "      <td>Rajpur Sonarpur</td>\n",
       "      <td>Executive</td>\n",
       "      <td>60347.0</td>\n",
       "      <td>2</td>\n",
       "      <td>52</td>\n",
       "      <td>28</td>\n",
       "      <td>76764.02</td>\n",
       "    </tr>\n",
       "    <tr>\n",
       "      <th>3</th>\n",
       "      <td>3</td>\n",
       "      <td>Ajmer</td>\n",
       "      <td>Executive</td>\n",
       "      <td>49010.0</td>\n",
       "      <td>2</td>\n",
       "      <td>81</td>\n",
       "      <td>33</td>\n",
       "      <td>82092.39</td>\n",
       "    </tr>\n",
       "    <tr>\n",
       "      <th>4</th>\n",
       "      <td>1</td>\n",
       "      <td>Durgapur</td>\n",
       "      <td>Executive</td>\n",
       "      <td>57879.0</td>\n",
       "      <td>4</td>\n",
       "      <td>74</td>\n",
       "      <td>32</td>\n",
       "      <td>73878.10</td>\n",
       "    </tr>\n",
       "  </tbody>\n",
       "</table>\n",
       "</div>"
      ],
      "text/plain": [
       "   College             City       Role  Previous CTC  Previous job change  \\\n",
       "0        2          Asansol    Manager       55523.0                    3   \n",
       "1        2            Ajmer  Executive       57081.0                    1   \n",
       "2        3  Rajpur Sonarpur  Executive       60347.0                    2   \n",
       "3        3            Ajmer  Executive       49010.0                    2   \n",
       "4        1         Durgapur  Executive       57879.0                    4   \n",
       "\n",
       "   Graduation Marks  EXP (Month)       CTC  \n",
       "0                66           19  71406.58  \n",
       "1                84           18  68005.87  \n",
       "2                52           28  76764.02  \n",
       "3                81           33  82092.39  \n",
       "4                74           32  73878.10  "
      ]
     },
     "execution_count": 10,
     "metadata": {},
     "output_type": "execute_result"
    }
   ],
   "source": [
    "df.head()"
   ]
  },
  {
   "cell_type": "code",
   "execution_count": 11,
   "id": "39600573-126c-430f-9aae-d3686007c18c",
   "metadata": {},
   "outputs": [
    {
     "data": {
      "text/html": [
       "<div>\n",
       "<style scoped>\n",
       "    .dataframe tbody tr th:only-of-type {\n",
       "        vertical-align: middle;\n",
       "    }\n",
       "\n",
       "    .dataframe tbody tr th {\n",
       "        vertical-align: top;\n",
       "    }\n",
       "\n",
       "    .dataframe thead th {\n",
       "        text-align: right;\n",
       "    }\n",
       "</style>\n",
       "<table border=\"1\" class=\"dataframe\">\n",
       "  <thead>\n",
       "    <tr style=\"text-align: right;\">\n",
       "      <th></th>\n",
       "      <th>Metrio City</th>\n",
       "      <th>non-metro cities</th>\n",
       "    </tr>\n",
       "  </thead>\n",
       "  <tbody>\n",
       "    <tr>\n",
       "      <th>0</th>\n",
       "      <td>Mumbai</td>\n",
       "      <td>Dehradun</td>\n",
       "    </tr>\n",
       "    <tr>\n",
       "      <th>1</th>\n",
       "      <td>Delhi</td>\n",
       "      <td>Durgapur</td>\n",
       "    </tr>\n",
       "    <tr>\n",
       "      <th>2</th>\n",
       "      <td>Kolkata</td>\n",
       "      <td>Asansol</td>\n",
       "    </tr>\n",
       "    <tr>\n",
       "      <th>3</th>\n",
       "      <td>Chennai</td>\n",
       "      <td>Rourkela</td>\n",
       "    </tr>\n",
       "    <tr>\n",
       "      <th>4</th>\n",
       "      <td>Bangalore</td>\n",
       "      <td>Kozhikode</td>\n",
       "    </tr>\n",
       "    <tr>\n",
       "      <th>5</th>\n",
       "      <td>Hyderabad</td>\n",
       "      <td>Rajpur Sonarpur</td>\n",
       "    </tr>\n",
       "    <tr>\n",
       "      <th>6</th>\n",
       "      <td>Ahmedabad</td>\n",
       "      <td>Kolhapur</td>\n",
       "    </tr>\n",
       "    <tr>\n",
       "      <th>7</th>\n",
       "      <td>Pune</td>\n",
       "      <td>Ajmer</td>\n",
       "    </tr>\n",
       "    <tr>\n",
       "      <th>8</th>\n",
       "      <td>Surat</td>\n",
       "      <td>NaN</td>\n",
       "    </tr>\n",
       "  </tbody>\n",
       "</table>\n",
       "</div>"
      ],
      "text/plain": [
       "  Metrio City non-metro cities\n",
       "0      Mumbai         Dehradun\n",
       "1       Delhi         Durgapur\n",
       "2     Kolkata          Asansol\n",
       "3     Chennai         Rourkela\n",
       "4   Bangalore        Kozhikode\n",
       "5   Hyderabad  Rajpur Sonarpur\n",
       "6   Ahmedabad         Kolhapur\n",
       "7        Pune            Ajmer\n",
       "8       Surat              NaN"
      ]
     },
     "execution_count": 11,
     "metadata": {},
     "output_type": "execute_result"
    }
   ],
   "source": [
    "Cities = pd.read_csv(\"C:\\\\Users\\\\prajw\\\\OneDrive\\\\Desktop\\\\ml project\\\\Cities.csv\")\n",
    "Cities"
   ]
  },
  {
   "cell_type": "code",
   "execution_count": 12,
   "id": "2e4217db-04de-4f27-88e5-d08f8dcc5fe2",
   "metadata": {},
   "outputs": [],
   "source": [
    "Metrio = Cities[\"Metrio City\"].tolist()\n",
    "non_Metrio = Cities[\"non-metro cities\"].tolist()"
   ]
  },
  {
   "cell_type": "code",
   "execution_count": 13,
   "id": "c658e679-2af0-4b73-84d3-9c06041f1fdb",
   "metadata": {},
   "outputs": [
    {
     "data": {
      "text/plain": [
       "['Mumbai',\n",
       " 'Delhi',\n",
       " 'Kolkata',\n",
       " 'Chennai',\n",
       " 'Bangalore',\n",
       " 'Hyderabad',\n",
       " 'Ahmedabad',\n",
       " 'Pune',\n",
       " 'Surat']"
      ]
     },
     "execution_count": 13,
     "metadata": {},
     "output_type": "execute_result"
    }
   ],
   "source": [
    "Metrio\n"
   ]
  },
  {
   "cell_type": "code",
   "execution_count": 14,
   "id": "8fe3e32f-6487-45bf-8018-953eaf6159e0",
   "metadata": {},
   "outputs": [
    {
     "data": {
      "text/plain": [
       "['Dehradun',\n",
       " 'Durgapur',\n",
       " 'Asansol',\n",
       " 'Rourkela',\n",
       " 'Kozhikode',\n",
       " 'Rajpur Sonarpur',\n",
       " 'Kolhapur',\n",
       " 'Ajmer',\n",
       " nan]"
      ]
     },
     "execution_count": 14,
     "metadata": {},
     "output_type": "execute_result"
    }
   ],
   "source": [
    "non_Metrio"
   ]
  },
  {
   "cell_type": "code",
   "execution_count": 15,
   "id": "19949663-32ef-43ed-a26a-95a6446eddb0",
   "metadata": {},
   "outputs": [],
   "source": [
    "for i in df.City:\n",
    "    if i in Metrio:\n",
    "        df['City'].replace(i,1,inplace = True)\n",
    "    elif i in non_Metrio:\n",
    "        df['City'].replace(i,0,inplace = True)\n",
    "        "
   ]
  },
  {
   "cell_type": "code",
   "execution_count": 16,
   "id": "395da2ce-f2cf-4cb7-b9e2-a5d05ead2142",
   "metadata": {},
   "outputs": [
    {
     "data": {
      "text/html": [
       "<div>\n",
       "<style scoped>\n",
       "    .dataframe tbody tr th:only-of-type {\n",
       "        vertical-align: middle;\n",
       "    }\n",
       "\n",
       "    .dataframe tbody tr th {\n",
       "        vertical-align: top;\n",
       "    }\n",
       "\n",
       "    .dataframe thead th {\n",
       "        text-align: right;\n",
       "    }\n",
       "</style>\n",
       "<table border=\"1\" class=\"dataframe\">\n",
       "  <thead>\n",
       "    <tr style=\"text-align: right;\">\n",
       "      <th></th>\n",
       "      <th>College</th>\n",
       "      <th>City</th>\n",
       "      <th>Role</th>\n",
       "      <th>Previous CTC</th>\n",
       "      <th>Previous job change</th>\n",
       "      <th>Graduation Marks</th>\n",
       "      <th>EXP (Month)</th>\n",
       "      <th>CTC</th>\n",
       "    </tr>\n",
       "  </thead>\n",
       "  <tbody>\n",
       "    <tr>\n",
       "      <th>0</th>\n",
       "      <td>2</td>\n",
       "      <td>0</td>\n",
       "      <td>Manager</td>\n",
       "      <td>55523.0</td>\n",
       "      <td>3</td>\n",
       "      <td>66</td>\n",
       "      <td>19</td>\n",
       "      <td>71406.58</td>\n",
       "    </tr>\n",
       "    <tr>\n",
       "      <th>1</th>\n",
       "      <td>2</td>\n",
       "      <td>0</td>\n",
       "      <td>Executive</td>\n",
       "      <td>57081.0</td>\n",
       "      <td>1</td>\n",
       "      <td>84</td>\n",
       "      <td>18</td>\n",
       "      <td>68005.87</td>\n",
       "    </tr>\n",
       "    <tr>\n",
       "      <th>2</th>\n",
       "      <td>3</td>\n",
       "      <td>0</td>\n",
       "      <td>Executive</td>\n",
       "      <td>60347.0</td>\n",
       "      <td>2</td>\n",
       "      <td>52</td>\n",
       "      <td>28</td>\n",
       "      <td>76764.02</td>\n",
       "    </tr>\n",
       "    <tr>\n",
       "      <th>3</th>\n",
       "      <td>3</td>\n",
       "      <td>0</td>\n",
       "      <td>Executive</td>\n",
       "      <td>49010.0</td>\n",
       "      <td>2</td>\n",
       "      <td>81</td>\n",
       "      <td>33</td>\n",
       "      <td>82092.39</td>\n",
       "    </tr>\n",
       "    <tr>\n",
       "      <th>4</th>\n",
       "      <td>1</td>\n",
       "      <td>0</td>\n",
       "      <td>Executive</td>\n",
       "      <td>57879.0</td>\n",
       "      <td>4</td>\n",
       "      <td>74</td>\n",
       "      <td>32</td>\n",
       "      <td>73878.10</td>\n",
       "    </tr>\n",
       "  </tbody>\n",
       "</table>\n",
       "</div>"
      ],
      "text/plain": [
       "   College  City       Role  Previous CTC  Previous job change  \\\n",
       "0        2     0    Manager       55523.0                    3   \n",
       "1        2     0  Executive       57081.0                    1   \n",
       "2        3     0  Executive       60347.0                    2   \n",
       "3        3     0  Executive       49010.0                    2   \n",
       "4        1     0  Executive       57879.0                    4   \n",
       "\n",
       "   Graduation Marks  EXP (Month)       CTC  \n",
       "0                66           19  71406.58  \n",
       "1                84           18  68005.87  \n",
       "2                52           28  76764.02  \n",
       "3                81           33  82092.39  \n",
       "4                74           32  73878.10  "
      ]
     },
     "execution_count": 16,
     "metadata": {},
     "output_type": "execute_result"
    }
   ],
   "source": [
    "df.head()\n",
    "# created dummy variable for city"
   ]
  },
  {
   "cell_type": "code",
   "execution_count": 17,
   "id": "6de87885-6c6a-4b7e-8e17-d63be8af6f96",
   "metadata": {},
   "outputs": [
    {
     "data": {
      "text/html": [
       "<div>\n",
       "<style scoped>\n",
       "    .dataframe tbody tr th:only-of-type {\n",
       "        vertical-align: middle;\n",
       "    }\n",
       "\n",
       "    .dataframe tbody tr th {\n",
       "        vertical-align: top;\n",
       "    }\n",
       "\n",
       "    .dataframe thead th {\n",
       "        text-align: right;\n",
       "    }\n",
       "</style>\n",
       "<table border=\"1\" class=\"dataframe\">\n",
       "  <thead>\n",
       "    <tr style=\"text-align: right;\">\n",
       "      <th></th>\n",
       "      <th>College</th>\n",
       "      <th>City</th>\n",
       "      <th>Role</th>\n",
       "      <th>Previous CTC</th>\n",
       "      <th>Previous job change</th>\n",
       "      <th>Graduation Marks</th>\n",
       "      <th>EXP (Month)</th>\n",
       "      <th>CTC</th>\n",
       "    </tr>\n",
       "  </thead>\n",
       "  <tbody>\n",
       "    <tr>\n",
       "      <th>0</th>\n",
       "      <td>2</td>\n",
       "      <td>0</td>\n",
       "      <td>1</td>\n",
       "      <td>55523.0</td>\n",
       "      <td>3</td>\n",
       "      <td>66</td>\n",
       "      <td>19</td>\n",
       "      <td>71406.58</td>\n",
       "    </tr>\n",
       "    <tr>\n",
       "      <th>1</th>\n",
       "      <td>2</td>\n",
       "      <td>0</td>\n",
       "      <td>0</td>\n",
       "      <td>57081.0</td>\n",
       "      <td>1</td>\n",
       "      <td>84</td>\n",
       "      <td>18</td>\n",
       "      <td>68005.87</td>\n",
       "    </tr>\n",
       "    <tr>\n",
       "      <th>2</th>\n",
       "      <td>3</td>\n",
       "      <td>0</td>\n",
       "      <td>0</td>\n",
       "      <td>60347.0</td>\n",
       "      <td>2</td>\n",
       "      <td>52</td>\n",
       "      <td>28</td>\n",
       "      <td>76764.02</td>\n",
       "    </tr>\n",
       "    <tr>\n",
       "      <th>3</th>\n",
       "      <td>3</td>\n",
       "      <td>0</td>\n",
       "      <td>0</td>\n",
       "      <td>49010.0</td>\n",
       "      <td>2</td>\n",
       "      <td>81</td>\n",
       "      <td>33</td>\n",
       "      <td>82092.39</td>\n",
       "    </tr>\n",
       "    <tr>\n",
       "      <th>4</th>\n",
       "      <td>1</td>\n",
       "      <td>0</td>\n",
       "      <td>0</td>\n",
       "      <td>57879.0</td>\n",
       "      <td>4</td>\n",
       "      <td>74</td>\n",
       "      <td>32</td>\n",
       "      <td>73878.10</td>\n",
       "    </tr>\n",
       "  </tbody>\n",
       "</table>\n",
       "</div>"
      ],
      "text/plain": [
       "   College  City  Role  Previous CTC  Previous job change  Graduation Marks  \\\n",
       "0        2     0     1       55523.0                    3                66   \n",
       "1        2     0     0       57081.0                    1                84   \n",
       "2        3     0     0       60347.0                    2                52   \n",
       "3        3     0     0       49010.0                    2                81   \n",
       "4        1     0     0       57879.0                    4                74   \n",
       "\n",
       "   EXP (Month)       CTC  \n",
       "0           19  71406.58  \n",
       "1           18  68005.87  \n",
       "2           28  76764.02  \n",
       "3           33  82092.39  \n",
       "4           32  73878.10  "
      ]
     },
     "execution_count": 17,
     "metadata": {},
     "output_type": "execute_result"
    }
   ],
   "source": [
    " from sklearn.preprocessing import LabelEncoder\n",
    " LE = LabelEncoder()\n",
    " df.Role = LE.fit_transform(df.Role)\n",
    " df.head()"
   ]
  },
  {
   "cell_type": "code",
   "execution_count": 68,
   "id": "5b563616-a47c-474e-abc9-c30c05195fb7",
   "metadata": {},
   "outputs": [
    {
     "data": {
      "text/html": [
       "<div>\n",
       "<style scoped>\n",
       "    .dataframe tbody tr th:only-of-type {\n",
       "        vertical-align: middle;\n",
       "    }\n",
       "\n",
       "    .dataframe tbody tr th {\n",
       "        vertical-align: top;\n",
       "    }\n",
       "\n",
       "    .dataframe thead th {\n",
       "        text-align: right;\n",
       "    }\n",
       "</style>\n",
       "<table border=\"1\" class=\"dataframe\">\n",
       "  <thead>\n",
       "    <tr style=\"text-align: right;\">\n",
       "      <th></th>\n",
       "      <th>College</th>\n",
       "      <th>City</th>\n",
       "      <th>Previous CTC</th>\n",
       "      <th>Previous job change</th>\n",
       "      <th>Graduation Marks</th>\n",
       "      <th>EXP (Month)</th>\n",
       "      <th>CTC</th>\n",
       "      <th>Role_Manager</th>\n",
       "    </tr>\n",
       "  </thead>\n",
       "  <tbody>\n",
       "    <tr>\n",
       "      <th>0</th>\n",
       "      <td>2</td>\n",
       "      <td>0</td>\n",
       "      <td>55523.0</td>\n",
       "      <td>3</td>\n",
       "      <td>66</td>\n",
       "      <td>19</td>\n",
       "      <td>71406.58</td>\n",
       "      <td>True</td>\n",
       "    </tr>\n",
       "    <tr>\n",
       "      <th>1</th>\n",
       "      <td>2</td>\n",
       "      <td>0</td>\n",
       "      <td>57081.0</td>\n",
       "      <td>1</td>\n",
       "      <td>84</td>\n",
       "      <td>18</td>\n",
       "      <td>68005.87</td>\n",
       "      <td>False</td>\n",
       "    </tr>\n",
       "    <tr>\n",
       "      <th>2</th>\n",
       "      <td>3</td>\n",
       "      <td>0</td>\n",
       "      <td>60347.0</td>\n",
       "      <td>2</td>\n",
       "      <td>52</td>\n",
       "      <td>28</td>\n",
       "      <td>76764.02</td>\n",
       "      <td>False</td>\n",
       "    </tr>\n",
       "    <tr>\n",
       "      <th>3</th>\n",
       "      <td>3</td>\n",
       "      <td>0</td>\n",
       "      <td>49010.0</td>\n",
       "      <td>2</td>\n",
       "      <td>81</td>\n",
       "      <td>33</td>\n",
       "      <td>82092.39</td>\n",
       "      <td>False</td>\n",
       "    </tr>\n",
       "    <tr>\n",
       "      <th>4</th>\n",
       "      <td>1</td>\n",
       "      <td>0</td>\n",
       "      <td>57879.0</td>\n",
       "      <td>4</td>\n",
       "      <td>74</td>\n",
       "      <td>32</td>\n",
       "      <td>73878.10</td>\n",
       "      <td>False</td>\n",
       "    </tr>\n",
       "    <tr>\n",
       "      <th>...</th>\n",
       "      <td>...</td>\n",
       "      <td>...</td>\n",
       "      <td>...</td>\n",
       "      <td>...</td>\n",
       "      <td>...</td>\n",
       "      <td>...</td>\n",
       "      <td>...</td>\n",
       "      <td>...</td>\n",
       "    </tr>\n",
       "    <tr>\n",
       "      <th>1584</th>\n",
       "      <td>1</td>\n",
       "      <td>1</td>\n",
       "      <td>61285.0</td>\n",
       "      <td>3</td>\n",
       "      <td>44</td>\n",
       "      <td>60</td>\n",
       "      <td>77283.59</td>\n",
       "      <td>False</td>\n",
       "    </tr>\n",
       "    <tr>\n",
       "      <th>1585</th>\n",
       "      <td>1</td>\n",
       "      <td>0</td>\n",
       "      <td>63140.0</td>\n",
       "      <td>1</td>\n",
       "      <td>44</td>\n",
       "      <td>24</td>\n",
       "      <td>68416.86</td>\n",
       "      <td>False</td>\n",
       "    </tr>\n",
       "    <tr>\n",
       "      <th>1586</th>\n",
       "      <td>1</td>\n",
       "      <td>1</td>\n",
       "      <td>44907.0</td>\n",
       "      <td>1</td>\n",
       "      <td>60</td>\n",
       "      <td>19</td>\n",
       "      <td>70186.19</td>\n",
       "      <td>False</td>\n",
       "    </tr>\n",
       "    <tr>\n",
       "      <th>1587</th>\n",
       "      <td>1</td>\n",
       "      <td>0</td>\n",
       "      <td>52054.0</td>\n",
       "      <td>2</td>\n",
       "      <td>67</td>\n",
       "      <td>29</td>\n",
       "      <td>73394.09</td>\n",
       "      <td>False</td>\n",
       "    </tr>\n",
       "    <tr>\n",
       "      <th>1588</th>\n",
       "      <td>2</td>\n",
       "      <td>1</td>\n",
       "      <td>44353.0</td>\n",
       "      <td>3</td>\n",
       "      <td>75</td>\n",
       "      <td>18</td>\n",
       "      <td>70056.31</td>\n",
       "      <td>True</td>\n",
       "    </tr>\n",
       "  </tbody>\n",
       "</table>\n",
       "<p>1589 rows × 8 columns</p>\n",
       "</div>"
      ],
      "text/plain": [
       "      College  City  Previous CTC  Previous job change  Graduation Marks  \\\n",
       "0           2     0       55523.0                    3                66   \n",
       "1           2     0       57081.0                    1                84   \n",
       "2           3     0       60347.0                    2                52   \n",
       "3           3     0       49010.0                    2                81   \n",
       "4           1     0       57879.0                    4                74   \n",
       "...       ...   ...           ...                  ...               ...   \n",
       "1584        1     1       61285.0                    3                44   \n",
       "1585        1     0       63140.0                    1                44   \n",
       "1586        1     1       44907.0                    1                60   \n",
       "1587        1     0       52054.0                    2                67   \n",
       "1588        2     1       44353.0                    3                75   \n",
       "\n",
       "      EXP (Month)       CTC  Role_Manager  \n",
       "0              19  71406.58          True  \n",
       "1              18  68005.87         False  \n",
       "2              28  76764.02         False  \n",
       "3              33  82092.39         False  \n",
       "4              32  73878.10         False  \n",
       "...           ...       ...           ...  \n",
       "1584           60  77283.59         False  \n",
       "1585           24  68416.86         False  \n",
       "1586           19  70186.19         False  \n",
       "1587           29  73394.09         False  \n",
       "1588           18  70056.31          True  \n",
       "\n",
       "[1589 rows x 8 columns]"
      ]
     },
     "execution_count": 68,
     "metadata": {},
     "output_type": "execute_result"
    }
   ],
   "source": [
    "# creating dummy variable for Role Filed\n",
    "# x = pd.get_dummies(df.Role,prefix = 'Role',drop_first = True) \n",
    "# x\n",
    "# data = pd.concat([df,x],axis = 1).drop(['Role'],axis = 1)\n",
    "# data"
   ]
  },
  {
   "cell_type": "code",
   "execution_count": 18,
   "id": "43ba2372-cb4d-458b-becd-0469a4569467",
   "metadata": {},
   "outputs": [
    {
     "name": "stdout",
     "output_type": "stream",
     "text": [
      "<class 'pandas.core.series.Series'>\n"
     ]
    },
    {
     "data": {
      "text/plain": [
       "College                  int64\n",
       "City                     int64\n",
       "Role                     int32\n",
       "Previous CTC           float64\n",
       "Previous job change      int64\n",
       "Graduation Marks         int64\n",
       "EXP (Month)              int64\n",
       "CTC                    float64\n",
       "dtype: object"
      ]
     },
     "execution_count": 18,
     "metadata": {},
     "output_type": "execute_result"
    }
   ],
   "source": [
    "print(type(df.Role))\n",
    "df.dtypes"
   ]
  },
  {
   "cell_type": "code",
   "execution_count": 19,
   "id": "8e02963f-c3b8-4954-b735-3613c21e0424",
   "metadata": {},
   "outputs": [
    {
     "data": {
      "text/html": [
       "<div>\n",
       "<style scoped>\n",
       "    .dataframe tbody tr th:only-of-type {\n",
       "        vertical-align: middle;\n",
       "    }\n",
       "\n",
       "    .dataframe tbody tr th {\n",
       "        vertical-align: top;\n",
       "    }\n",
       "\n",
       "    .dataframe thead th {\n",
       "        text-align: right;\n",
       "    }\n",
       "</style>\n",
       "<table border=\"1\" class=\"dataframe\">\n",
       "  <thead>\n",
       "    <tr style=\"text-align: right;\">\n",
       "      <th></th>\n",
       "      <th>College</th>\n",
       "      <th>City</th>\n",
       "      <th>Role</th>\n",
       "      <th>Previous CTC</th>\n",
       "      <th>Previous job change</th>\n",
       "      <th>Graduation Marks</th>\n",
       "      <th>EXP (Month)</th>\n",
       "      <th>CTC</th>\n",
       "    </tr>\n",
       "  </thead>\n",
       "  <tbody>\n",
       "    <tr>\n",
       "      <th>0</th>\n",
       "      <td>2</td>\n",
       "      <td>0</td>\n",
       "      <td>1</td>\n",
       "      <td>55523.0</td>\n",
       "      <td>3</td>\n",
       "      <td>66</td>\n",
       "      <td>19</td>\n",
       "      <td>71406.58</td>\n",
       "    </tr>\n",
       "    <tr>\n",
       "      <th>1</th>\n",
       "      <td>2</td>\n",
       "      <td>0</td>\n",
       "      <td>0</td>\n",
       "      <td>57081.0</td>\n",
       "      <td>1</td>\n",
       "      <td>84</td>\n",
       "      <td>18</td>\n",
       "      <td>68005.87</td>\n",
       "    </tr>\n",
       "    <tr>\n",
       "      <th>2</th>\n",
       "      <td>3</td>\n",
       "      <td>0</td>\n",
       "      <td>0</td>\n",
       "      <td>60347.0</td>\n",
       "      <td>2</td>\n",
       "      <td>52</td>\n",
       "      <td>28</td>\n",
       "      <td>76764.02</td>\n",
       "    </tr>\n",
       "    <tr>\n",
       "      <th>3</th>\n",
       "      <td>3</td>\n",
       "      <td>0</td>\n",
       "      <td>0</td>\n",
       "      <td>49010.0</td>\n",
       "      <td>2</td>\n",
       "      <td>81</td>\n",
       "      <td>33</td>\n",
       "      <td>82092.39</td>\n",
       "    </tr>\n",
       "    <tr>\n",
       "      <th>4</th>\n",
       "      <td>1</td>\n",
       "      <td>0</td>\n",
       "      <td>0</td>\n",
       "      <td>57879.0</td>\n",
       "      <td>4</td>\n",
       "      <td>74</td>\n",
       "      <td>32</td>\n",
       "      <td>73878.10</td>\n",
       "    </tr>\n",
       "  </tbody>\n",
       "</table>\n",
       "</div>"
      ],
      "text/plain": [
       "   College  City  Role  Previous CTC  Previous job change  Graduation Marks  \\\n",
       "0        2     0     1       55523.0                    3                66   \n",
       "1        2     0     0       57081.0                    1                84   \n",
       "2        3     0     0       60347.0                    2                52   \n",
       "3        3     0     0       49010.0                    2                81   \n",
       "4        1     0     0       57879.0                    4                74   \n",
       "\n",
       "   EXP (Month)       CTC  \n",
       "0           19  71406.58  \n",
       "1           18  68005.87  \n",
       "2           28  76764.02  \n",
       "3           33  82092.39  \n",
       "4           32  73878.10  "
      ]
     },
     "execution_count": 19,
     "metadata": {},
     "output_type": "execute_result"
    }
   ],
   "source": [
    " df.head()  #  print updated pandas dataframe"
   ]
  },
  {
   "cell_type": "code",
   "execution_count": 21,
   "id": "0072214a-fa29-4946-8bde-41b3be41b83f",
   "metadata": {},
   "outputs": [
    {
     "name": "stdout",
     "output_type": "stream",
     "text": [
      "College                  int64\n",
      "City                     int64\n",
      "Role                     int32\n",
      "Previous CTC           float64\n",
      "Previous job change      int64\n",
      "Graduation Marks         int64\n",
      "EXP (Month)              int64\n",
      "CTC                    float64\n",
      "dtype: object\n"
     ]
    }
   ],
   "source": [
    "print(df.dtypes)"
   ]
  },
  {
   "cell_type": "code",
   "execution_count": 22,
   "id": "84c0acf2-e6b0-4dbf-b63f-e0a18036b1e2",
   "metadata": {},
   "outputs": [
    {
     "data": {
      "text/plain": [
       "(1589, 8)"
      ]
     },
     "execution_count": 22,
     "metadata": {},
     "output_type": "execute_result"
    }
   ],
   "source": [
    "df.shape"
   ]
  },
  {
   "cell_type": "code",
   "execution_count": 23,
   "id": "d7c56bb7-813a-4533-90d1-687042d601e0",
   "metadata": {},
   "outputs": [
    {
     "data": {
      "text/html": [
       "<div>\n",
       "<style scoped>\n",
       "    .dataframe tbody tr th:only-of-type {\n",
       "        vertical-align: middle;\n",
       "    }\n",
       "\n",
       "    .dataframe tbody tr th {\n",
       "        vertical-align: top;\n",
       "    }\n",
       "\n",
       "    .dataframe thead th {\n",
       "        text-align: right;\n",
       "    }\n",
       "</style>\n",
       "<table border=\"1\" class=\"dataframe\">\n",
       "  <thead>\n",
       "    <tr style=\"text-align: right;\">\n",
       "      <th></th>\n",
       "      <th>College</th>\n",
       "      <th>City</th>\n",
       "      <th>Role</th>\n",
       "      <th>Previous CTC</th>\n",
       "      <th>Previous job change</th>\n",
       "      <th>Graduation Marks</th>\n",
       "      <th>EXP (Month)</th>\n",
       "      <th>CTC</th>\n",
       "    </tr>\n",
       "  </thead>\n",
       "  <tbody>\n",
       "    <tr>\n",
       "      <th>count</th>\n",
       "      <td>1589.000000</td>\n",
       "      <td>1589.000000</td>\n",
       "      <td>1589.000000</td>\n",
       "      <td>1589.000000</td>\n",
       "      <td>1589.000000</td>\n",
       "      <td>1589.000000</td>\n",
       "      <td>1589.000000</td>\n",
       "      <td>1589.000000</td>\n",
       "    </tr>\n",
       "    <tr>\n",
       "      <th>mean</th>\n",
       "      <td>1.975456</td>\n",
       "      <td>0.514160</td>\n",
       "      <td>0.206419</td>\n",
       "      <td>55518.453744</td>\n",
       "      <td>2.528634</td>\n",
       "      <td>59.855255</td>\n",
       "      <td>39.044682</td>\n",
       "      <td>75353.278798</td>\n",
       "    </tr>\n",
       "    <tr>\n",
       "      <th>std</th>\n",
       "      <td>0.838330</td>\n",
       "      <td>0.499957</td>\n",
       "      <td>0.404862</td>\n",
       "      <td>6655.218445</td>\n",
       "      <td>1.123918</td>\n",
       "      <td>14.935139</td>\n",
       "      <td>14.108875</td>\n",
       "      <td>12587.288237</td>\n",
       "    </tr>\n",
       "    <tr>\n",
       "      <th>min</th>\n",
       "      <td>1.000000</td>\n",
       "      <td>0.000000</td>\n",
       "      <td>0.000000</td>\n",
       "      <td>36990.000000</td>\n",
       "      <td>1.000000</td>\n",
       "      <td>35.000000</td>\n",
       "      <td>18.000000</td>\n",
       "      <td>53020.320000</td>\n",
       "    </tr>\n",
       "    <tr>\n",
       "      <th>25%</th>\n",
       "      <td>1.000000</td>\n",
       "      <td>0.000000</td>\n",
       "      <td>0.000000</td>\n",
       "      <td>50518.000000</td>\n",
       "      <td>2.000000</td>\n",
       "      <td>46.000000</td>\n",
       "      <td>26.000000</td>\n",
       "      <td>66902.350000</td>\n",
       "    </tr>\n",
       "    <tr>\n",
       "      <th>50%</th>\n",
       "      <td>2.000000</td>\n",
       "      <td>1.000000</td>\n",
       "      <td>0.000000</td>\n",
       "      <td>55291.000000</td>\n",
       "      <td>3.000000</td>\n",
       "      <td>60.000000</td>\n",
       "      <td>39.000000</td>\n",
       "      <td>73028.670000</td>\n",
       "    </tr>\n",
       "    <tr>\n",
       "      <th>75%</th>\n",
       "      <td>3.000000</td>\n",
       "      <td>1.000000</td>\n",
       "      <td>0.000000</td>\n",
       "      <td>60109.000000</td>\n",
       "      <td>4.000000</td>\n",
       "      <td>73.000000</td>\n",
       "      <td>51.000000</td>\n",
       "      <td>80588.670000</td>\n",
       "    </tr>\n",
       "    <tr>\n",
       "      <th>max</th>\n",
       "      <td>3.000000</td>\n",
       "      <td>1.000000</td>\n",
       "      <td>1.000000</td>\n",
       "      <td>77911.000000</td>\n",
       "      <td>4.000000</td>\n",
       "      <td>85.000000</td>\n",
       "      <td>64.000000</td>\n",
       "      <td>123416.990000</td>\n",
       "    </tr>\n",
       "  </tbody>\n",
       "</table>\n",
       "</div>"
      ],
      "text/plain": [
       "           College         City         Role  Previous CTC  \\\n",
       "count  1589.000000  1589.000000  1589.000000   1589.000000   \n",
       "mean      1.975456     0.514160     0.206419  55518.453744   \n",
       "std       0.838330     0.499957     0.404862   6655.218445   \n",
       "min       1.000000     0.000000     0.000000  36990.000000   \n",
       "25%       1.000000     0.000000     0.000000  50518.000000   \n",
       "50%       2.000000     1.000000     0.000000  55291.000000   \n",
       "75%       3.000000     1.000000     0.000000  60109.000000   \n",
       "max       3.000000     1.000000     1.000000  77911.000000   \n",
       "\n",
       "       Previous job change  Graduation Marks  EXP (Month)            CTC  \n",
       "count          1589.000000       1589.000000  1589.000000    1589.000000  \n",
       "mean              2.528634         59.855255    39.044682   75353.278798  \n",
       "std               1.123918         14.935139    14.108875   12587.288237  \n",
       "min               1.000000         35.000000    18.000000   53020.320000  \n",
       "25%               2.000000         46.000000    26.000000   66902.350000  \n",
       "50%               3.000000         60.000000    39.000000   73028.670000  \n",
       "75%               4.000000         73.000000    51.000000   80588.670000  \n",
       "max               4.000000         85.000000    64.000000  123416.990000  "
      ]
     },
     "execution_count": 23,
     "metadata": {},
     "output_type": "execute_result"
    }
   ],
   "source": [
    "# performing EDD\n",
    "df.describe()"
   ]
  },
  {
   "cell_type": "code",
   "execution_count": 24,
   "id": "92e1cbc9-859b-4e5e-8adb-feaffe029563",
   "metadata": {},
   "outputs": [
    {
     "data": {
      "text/plain": [
       "College                0\n",
       "City                   0\n",
       "Role                   0\n",
       "Previous CTC           0\n",
       "Previous job change    0\n",
       "Graduation Marks       0\n",
       "EXP (Month)            0\n",
       "CTC                    0\n",
       "dtype: int64"
      ]
     },
     "execution_count": 24,
     "metadata": {},
     "output_type": "execute_result"
    }
   ],
   "source": [
    "# Checking for null values\n",
    "df.isnull().sum()"
   ]
  },
  {
   "cell_type": "code",
   "execution_count": null,
   "id": "e0a0a060-9599-460e-a6a4-c247cf658c86",
   "metadata": {},
   "outputs": [],
   "source": []
  },
  {
   "cell_type": "code",
   "execution_count": null,
   "id": "91561cf4-f0c0-4a10-9370-e2dda1c6728e",
   "metadata": {},
   "outputs": [],
   "source": [
    "#checking null values using heatmap"
   ]
  },
  {
   "cell_type": "code",
   "execution_count": 25,
   "id": "24fa0e61-f9e4-4a2d-bc82-860126ce1744",
   "metadata": {},
   "outputs": [
    {
     "data": {
      "text/plain": [
       "<Axes: >"
      ]
     },
     "execution_count": 25,
     "metadata": {},
     "output_type": "execute_result"
    },
    {
     "data": {
      "image/png": "[encoded data removed]",
      "text/plain": [
       "<Figure size 640x480 with 2 Axes>"
      ]
     },
     "metadata": {},
     "output_type": "display_data"
    }
   ],
   "source": [
    "snsb.heatmap(df.isnull())  # no null value is present"
   ]
  },
  {
   "cell_type": "code",
   "execution_count": null,
   "id": "2225dcff-bece-4f97-94cd-b5991055fc58",
   "metadata": {},
   "outputs": [],
   "source": []
  },
  {
   "cell_type": "code",
   "execution_count": null,
   "id": "baa7f954-3d4b-4d55-bcc5-492b9f4fd850",
   "metadata": {},
   "outputs": [],
   "source": [
    "#checking for outliers using box plot "
   ]
  },
  {
   "cell_type": "code",
   "execution_count": 26,
   "id": "712eb0d0-93d0-4bd5-8685-b6a015db0656",
   "metadata": {},
   "outputs": [
    {
     "data": {
      "text/plain": [
       "<Axes: >"
      ]
     },
     "execution_count": 26,
     "metadata": {},
     "output_type": "execute_result"
    },
    {
     "data": {
      "image/png": "[encoded data removed]",
      "text/plain": [
       "<Figure size 640x480 with 1 Axes>"
      ]
     },
     "metadata": {},
     "output_type": "display_data"
    }
   ],
   "source": [
    "snsb.boxplot(df[\"College\"])"
   ]
  },
  {
   "cell_type": "code",
   "execution_count": 27,
   "id": "057c95c1-d5b3-49c3-9e8b-f3fcf31e89db",
   "metadata": {},
   "outputs": [
    {
     "data": {
      "text/plain": [
       "<Axes: >"
      ]
     },
     "execution_count": 27,
     "metadata": {},
     "output_type": "execute_result"
    },
    {
     "data": {
      "image/png": "[encoded data removed]",
      "text/plain": [
       "<Figure size 640x480 with 1 Axes>"
      ]
     },
     "metadata": {},
     "output_type": "display_data"
    }
   ],
   "source": [
    "snsb.boxplot(df[\"City\"])"
   ]
  },
  {
   "cell_type": "code",
   "execution_count": 28,
   "id": "51c1c14f-2e69-4e0d-8909-14f3ca833c13",
   "metadata": {},
   "outputs": [
    {
     "data": {
      "text/plain": [
       "<Axes: >"
      ]
     },
     "execution_count": 28,
     "metadata": {},
     "output_type": "execute_result"
    },
    {
     "data": {
      "image/png": "[encoded data removed]",
      "text/plain": [
       "<Figure size 640x480 with 1 Axes>"
      ]
     },
     "metadata": {},
     "output_type": "display_data"
    }
   ],
   "source": [
    "snsb.boxplot(df[\"Previous CTC\"])"
   ]
  },
  {
   "cell_type": "code",
   "execution_count": null,
   "id": "975a57b6-a6d9-4873-b888-f455959e34bd",
   "metadata": {},
   "outputs": [],
   "source": [
    "#outlier detect"
   ]
  },
  {
   "cell_type": "code",
   "execution_count": 29,
   "id": "19529ced-311d-4e22-8ec3-d45b9786683e",
   "metadata": {},
   "outputs": [],
   "source": [
    "q1 = df['Previous CTC'].quantile(0.25)\n",
    "q3 = df['Previous CTC'].quantile(0.75)\n",
    "IQR = q3 - q1"
   ]
  },
  {
   "cell_type": "code",
   "execution_count": 30,
   "id": "4e232e4c-968d-45b5-ae8c-653cbdeb400a",
   "metadata": {},
   "outputs": [],
   "source": [
    "upper_limit = q3 + (1.5 * IQR)\n",
    "lower_limit = q1 - (1.5 * IQR)"
   ]
  },
  {
   "cell_type": "code",
   "execution_count": 31,
   "id": "e11f8443-eb0f-4ed0-8f39-a23371985f20",
   "metadata": {},
   "outputs": [
    {
     "name": "stdout",
     "output_type": "stream",
     "text": [
      "74495.5 36131.5\n"
     ]
    }
   ],
   "source": [
    "print(upper_limit,lower_limit)"
   ]
  },
  {
   "cell_type": "code",
   "execution_count": 34,
   "id": "483b341f-5141-48d3-a01c-048ae18d14db",
   "metadata": {},
   "outputs": [
    {
     "data": {
      "text/html": [
       "<div>\n",
       "<style scoped>\n",
       "    .dataframe tbody tr th:only-of-type {\n",
       "        vertical-align: middle;\n",
       "    }\n",
       "\n",
       "    .dataframe tbody tr th {\n",
       "        vertical-align: top;\n",
       "    }\n",
       "\n",
       "    .dataframe thead th {\n",
       "        text-align: right;\n",
       "    }\n",
       "</style>\n",
       "<table border=\"1\" class=\"dataframe\">\n",
       "  <thead>\n",
       "    <tr style=\"text-align: right;\">\n",
       "      <th></th>\n",
       "      <th>College</th>\n",
       "      <th>City</th>\n",
       "      <th>Role</th>\n",
       "      <th>Previous CTC</th>\n",
       "      <th>Previous job change</th>\n",
       "      <th>Graduation Marks</th>\n",
       "      <th>EXP (Month)</th>\n",
       "      <th>CTC</th>\n",
       "    </tr>\n",
       "  </thead>\n",
       "  <tbody>\n",
       "  </tbody>\n",
       "</table>\n",
       "</div>"
      ],
      "text/plain": [
       "Empty DataFrame\n",
       "Columns: [College, City, Role, Previous CTC, Previous job change, Graduation Marks, EXP (Month), CTC]\n",
       "Index: []"
      ]
     },
     "execution_count": 34,
     "metadata": {},
     "output_type": "execute_result"
    }
   ],
   "source": [
    "df.loc[df['Previous CTC'] > upper_limit]\n",
    "df.loc[df['Previous CTC'] < lower_limit]"
   ]
  },
  {
   "cell_type": "code",
   "execution_count": 41,
   "id": "68eceab9-6484-4ce8-b45d-8f4139c23d40",
   "metadata": {},
   "outputs": [],
   "source": [
    "new_df.loc[new_df['Previous CTC']> upper_limit ,'Previous CTC']  = upper_limit\n",
    "\n",
    "new_df.loc[new_df['Previous CTC']< lower_limit ,'Previous CTC']  = lower_limit\n"
   ]
  },
  {
   "cell_type": "code",
   "execution_count": null,
   "id": "0c77a2c4-fc0c-44c8-bd97-32ddd18d2d01",
   "metadata": {},
   "outputs": [],
   "source": [
    "#again draw the box plot for Previous CTC"
   ]
  },
  {
   "cell_type": "code",
   "execution_count": 43,
   "id": "d3e833f0-ee53-4a5a-8176-b0a6f2944430",
   "metadata": {},
   "outputs": [
    {
     "data": {
      "text/plain": [
       "<Axes: >"
      ]
     },
     "execution_count": 43,
     "metadata": {},
     "output_type": "execute_result"
    },
    {
     "data": {
      "image/png": "[encoded data removed]",
      "text/plain": [
       "<Figure size 640x480 with 1 Axes>"
      ]
     },
     "metadata": {},
     "output_type": "display_data"
    }
   ],
   "source": [
    "snsb.boxplot(new_df[\"Previous CTC\"])"
   ]
  },
  {
   "cell_type": "code",
   "execution_count": 75,
   "id": "de3b3141-968d-43c1-abb5-54a601178ccb",
   "metadata": {},
   "outputs": [
    {
     "data": {
      "text/plain": [
       "<Axes: >"
      ]
     },
     "execution_count": 75,
     "metadata": {},
     "output_type": "execute_result"
    },
    {
     "data": {
      "image/png": "[encoded data removed]",
      "text/plain": [
       "<Figure size 640x480 with 1 Axes>"
      ]
     },
     "metadata": {},
     "output_type": "display_data"
    }
   ],
   "source": [
    "snsb.boxplot(df[\"Previous job change\"])"
   ]
  },
  {
   "cell_type": "code",
   "execution_count": 87,
   "id": "c001321a-3cd3-4e38-a1c6-66f4a3bc8ecf",
   "metadata": {},
   "outputs": [
    {
     "data": {
      "text/plain": [
       "<Axes: >"
      ]
     },
     "execution_count": 87,
     "metadata": {},
     "output_type": "execute_result"
    },
    {
     "data": {
      "image/png": "[encoded data removed]",
      "text/plain": [
       "<Figure size 640x480 with 1 Axes>"
      ]
     },
     "metadata": {},
     "output_type": "display_data"
    }
   ],
   "source": [
    "snsb.boxplot(df[\"Graduation Marks\"])\n"
   ]
  },
  {
   "cell_type": "code",
   "execution_count": 45,
   "id": "f001fe9a-ee69-4e75-8cf7-01c60ce518e3",
   "metadata": {},
   "outputs": [
    {
     "data": {
      "text/plain": [
       "<Axes: >"
      ]
     },
     "execution_count": 45,
     "metadata": {},
     "output_type": "execute_result"
    },
    {
     "data": {
      "image/png": "[encoded data removed]",
      "text/plain": [
       "<Figure size 640x480 with 1 Axes>"
      ]
     },
     "metadata": {},
     "output_type": "display_data"
    }
   ],
   "source": [
    "snsb.boxplot(df[\"EXP (Month)\"])"
   ]
  },
  {
   "cell_type": "code",
   "execution_count": 46,
   "id": "d4a242c9-3030-432c-9b8c-59bec1c576f7",
   "metadata": {},
   "outputs": [
    {
     "data": {
      "text/plain": [
       "<Axes: >"
      ]
     },
     "execution_count": 46,
     "metadata": {},
     "output_type": "execute_result"
    },
    {
     "data": {
      "image/png": "[encoded data removed]",
      "text/plain": [
       "<Figure size 640x480 with 1 Axes>"
      ]
     },
     "metadata": {},
     "output_type": "display_data"
    }
   ],
   "source": [
    "snsb.boxplot(df[\"CTC\"])"
   ]
  },
  {
   "cell_type": "code",
   "execution_count": null,
   "id": "7e13705a-c33a-46b0-86eb-2b799a2aa9e1",
   "metadata": {},
   "outputs": [],
   "source": [
    "# in CTC Filed we detect the outliers now we remove this outliers using IQR"
   ]
  },
  {
   "cell_type": "code",
   "execution_count": 51,
   "id": "ba29018e-6fb9-4444-8110-7c2364e86bf0",
   "metadata": {},
   "outputs": [],
   "source": [
    "q1 = df['CTC'].quantile(0.25)\n",
    "q3 = df['CTC'].quantile(0.75)\n",
    "IQR = q3 - q1"
   ]
  },
  {
   "cell_type": "code",
   "execution_count": null,
   "id": "662be21f-a616-4d76-952a-8e9ca24a92af",
   "metadata": {},
   "outputs": [],
   "source": [
    "# setting limit"
   ]
  },
  {
   "cell_type": "code",
   "execution_count": 50,
   "id": "bbadc0de-1c58-4070-9e49-f21796f7544e",
   "metadata": {},
   "outputs": [],
   "source": [
    "upper_limit = q3 + (1.5 * IQR)\n",
    "lower_limit = q1 - (1.5 * IQR)"
   ]
  },
  {
   "cell_type": "code",
   "execution_count": 49,
   "id": "35db3155-12b8-448c-8641-87a4aa7a6e6d",
   "metadata": {},
   "outputs": [
    {
     "name": "stdout",
     "output_type": "stream",
     "text": [
      "74495.5 36131.5\n"
     ]
    }
   ],
   "source": [
    "print(upper_limit,lower_limit)"
   ]
  },
  {
   "cell_type": "code",
   "execution_count": 48,
   "id": "b382b2d6-0bb8-40fb-8fe6-2f6dd790d386",
   "metadata": {},
   "outputs": [
    {
     "data": {
      "text/html": [
       "<div>\n",
       "<style scoped>\n",
       "    .dataframe tbody tr th:only-of-type {\n",
       "        vertical-align: middle;\n",
       "    }\n",
       "\n",
       "    .dataframe tbody tr th {\n",
       "        vertical-align: top;\n",
       "    }\n",
       "\n",
       "    .dataframe thead th {\n",
       "        text-align: right;\n",
       "    }\n",
       "</style>\n",
       "<table border=\"1\" class=\"dataframe\">\n",
       "  <thead>\n",
       "    <tr style=\"text-align: right;\">\n",
       "      <th></th>\n",
       "      <th>College</th>\n",
       "      <th>City</th>\n",
       "      <th>Role</th>\n",
       "      <th>Previous CTC</th>\n",
       "      <th>Previous job change</th>\n",
       "      <th>Graduation Marks</th>\n",
       "      <th>EXP (Month)</th>\n",
       "      <th>CTC</th>\n",
       "    </tr>\n",
       "  </thead>\n",
       "  <tbody>\n",
       "  </tbody>\n",
       "</table>\n",
       "</div>"
      ],
      "text/plain": [
       "Empty DataFrame\n",
       "Columns: [College, City, Role, Previous CTC, Previous job change, Graduation Marks, EXP (Month), CTC]\n",
       "Index: []"
      ]
     },
     "execution_count": 48,
     "metadata": {},
     "output_type": "execute_result"
    }
   ],
   "source": [
    "# finding outliers\n",
    "df.loc[df['CTC'] > upper_limit]\n",
    "df.loc[df['CTC'] < lower_limit]"
   ]
  },
  {
   "cell_type": "code",
   "execution_count": null,
   "id": "30140d4f-9f1c-4136-8431-5d9a37355a5d",
   "metadata": {},
   "outputs": [],
   "source": [
    "#using capping method to treat the outliers`"
   ]
  },
  {
   "cell_type": "markdown",
   "id": "b69de10d-3101-4f2c-a3cf-29c6f3bf7997",
   "metadata": {},
   "source": []
  },
  {
   "cell_type": "code",
   "execution_count": 47,
   "id": "303542da-9555-438f-a91c-d0f7284543cb",
   "metadata": {},
   "outputs": [
    {
     "data": {
      "text/html": [
       "<div>\n",
       "<style scoped>\n",
       "    .dataframe tbody tr th:only-of-type {\n",
       "        vertical-align: middle;\n",
       "    }\n",
       "\n",
       "    .dataframe tbody tr th {\n",
       "        vertical-align: top;\n",
       "    }\n",
       "\n",
       "    .dataframe thead th {\n",
       "        text-align: right;\n",
       "    }\n",
       "</style>\n",
       "<table border=\"1\" class=\"dataframe\">\n",
       "  <thead>\n",
       "    <tr style=\"text-align: right;\">\n",
       "      <th></th>\n",
       "      <th>College</th>\n",
       "      <th>City</th>\n",
       "      <th>Role</th>\n",
       "      <th>Previous CTC</th>\n",
       "      <th>Previous job change</th>\n",
       "      <th>Graduation Marks</th>\n",
       "      <th>EXP (Month)</th>\n",
       "      <th>CTC</th>\n",
       "    </tr>\n",
       "  </thead>\n",
       "  <tbody>\n",
       "    <tr>\n",
       "      <th>0</th>\n",
       "      <td>2</td>\n",
       "      <td>0</td>\n",
       "      <td>1</td>\n",
       "      <td>55523.0</td>\n",
       "      <td>3</td>\n",
       "      <td>66</td>\n",
       "      <td>19</td>\n",
       "      <td>71406.58</td>\n",
       "    </tr>\n",
       "    <tr>\n",
       "      <th>1</th>\n",
       "      <td>2</td>\n",
       "      <td>0</td>\n",
       "      <td>0</td>\n",
       "      <td>57081.0</td>\n",
       "      <td>1</td>\n",
       "      <td>84</td>\n",
       "      <td>18</td>\n",
       "      <td>68005.87</td>\n",
       "    </tr>\n",
       "    <tr>\n",
       "      <th>2</th>\n",
       "      <td>3</td>\n",
       "      <td>0</td>\n",
       "      <td>0</td>\n",
       "      <td>60347.0</td>\n",
       "      <td>2</td>\n",
       "      <td>52</td>\n",
       "      <td>28</td>\n",
       "      <td>76764.02</td>\n",
       "    </tr>\n",
       "    <tr>\n",
       "      <th>3</th>\n",
       "      <td>3</td>\n",
       "      <td>0</td>\n",
       "      <td>0</td>\n",
       "      <td>49010.0</td>\n",
       "      <td>2</td>\n",
       "      <td>81</td>\n",
       "      <td>33</td>\n",
       "      <td>82092.39</td>\n",
       "    </tr>\n",
       "    <tr>\n",
       "      <th>4</th>\n",
       "      <td>1</td>\n",
       "      <td>0</td>\n",
       "      <td>0</td>\n",
       "      <td>57879.0</td>\n",
       "      <td>4</td>\n",
       "      <td>74</td>\n",
       "      <td>32</td>\n",
       "      <td>73878.10</td>\n",
       "    </tr>\n",
       "    <tr>\n",
       "      <th>...</th>\n",
       "      <td>...</td>\n",
       "      <td>...</td>\n",
       "      <td>...</td>\n",
       "      <td>...</td>\n",
       "      <td>...</td>\n",
       "      <td>...</td>\n",
       "      <td>...</td>\n",
       "      <td>...</td>\n",
       "    </tr>\n",
       "    <tr>\n",
       "      <th>1584</th>\n",
       "      <td>1</td>\n",
       "      <td>1</td>\n",
       "      <td>0</td>\n",
       "      <td>61285.0</td>\n",
       "      <td>3</td>\n",
       "      <td>44</td>\n",
       "      <td>60</td>\n",
       "      <td>77283.59</td>\n",
       "    </tr>\n",
       "    <tr>\n",
       "      <th>1585</th>\n",
       "      <td>1</td>\n",
       "      <td>0</td>\n",
       "      <td>0</td>\n",
       "      <td>63140.0</td>\n",
       "      <td>1</td>\n",
       "      <td>44</td>\n",
       "      <td>24</td>\n",
       "      <td>68416.86</td>\n",
       "    </tr>\n",
       "    <tr>\n",
       "      <th>1586</th>\n",
       "      <td>1</td>\n",
       "      <td>1</td>\n",
       "      <td>0</td>\n",
       "      <td>44907.0</td>\n",
       "      <td>1</td>\n",
       "      <td>60</td>\n",
       "      <td>19</td>\n",
       "      <td>70186.19</td>\n",
       "    </tr>\n",
       "    <tr>\n",
       "      <th>1587</th>\n",
       "      <td>1</td>\n",
       "      <td>0</td>\n",
       "      <td>0</td>\n",
       "      <td>52054.0</td>\n",
       "      <td>2</td>\n",
       "      <td>67</td>\n",
       "      <td>29</td>\n",
       "      <td>73394.09</td>\n",
       "    </tr>\n",
       "    <tr>\n",
       "      <th>1588</th>\n",
       "      <td>2</td>\n",
       "      <td>1</td>\n",
       "      <td>1</td>\n",
       "      <td>44353.0</td>\n",
       "      <td>3</td>\n",
       "      <td>75</td>\n",
       "      <td>18</td>\n",
       "      <td>70056.31</td>\n",
       "    </tr>\n",
       "  </tbody>\n",
       "</table>\n",
       "<p>1589 rows × 8 columns</p>\n",
       "</div>"
      ],
      "text/plain": [
       "      College  City  Role  Previous CTC  Previous job change  \\\n",
       "0           2     0     1       55523.0                    3   \n",
       "1           2     0     0       57081.0                    1   \n",
       "2           3     0     0       60347.0                    2   \n",
       "3           3     0     0       49010.0                    2   \n",
       "4           1     0     0       57879.0                    4   \n",
       "...       ...   ...   ...           ...                  ...   \n",
       "1584        1     1     0       61285.0                    3   \n",
       "1585        1     0     0       63140.0                    1   \n",
       "1586        1     1     0       44907.0                    1   \n",
       "1587        1     0     0       52054.0                    2   \n",
       "1588        2     1     1       44353.0                    3   \n",
       "\n",
       "      Graduation Marks  EXP (Month)       CTC  \n",
       "0                   66           19  71406.58  \n",
       "1                   84           18  68005.87  \n",
       "2                   52           28  76764.02  \n",
       "3                   81           33  82092.39  \n",
       "4                   74           32  73878.10  \n",
       "...                ...          ...       ...  \n",
       "1584                44           60  77283.59  \n",
       "1585                44           24  68416.86  \n",
       "1586                60           19  70186.19  \n",
       "1587                67           29  73394.09  \n",
       "1588                75           18  70056.31  \n",
       "\n",
       "[1589 rows x 8 columns]"
      ]
     },
     "execution_count": 47,
     "metadata": {},
     "output_type": "execute_result"
    }
   ],
   "source": [
    "new_df = df.copy()\n",
    "new_df"
   ]
  },
  {
   "cell_type": "code",
   "execution_count": 96,
   "id": "8ffd00d1-8ac2-44c7-b48f-1828c03a76f7",
   "metadata": {},
   "outputs": [],
   "source": [
    "new_df.loc[new_df['CTC']> upper_limit ,'CTC']  = upper_limit\n",
    "\n",
    "new_df.loc[new_df['CTC']< lower_limit ,'CTC']  = lower_limit\n"
   ]
  },
  {
   "cell_type": "code",
   "execution_count": 97,
   "id": "92871fdd-39e5-4348-a31d-4931626ef12b",
   "metadata": {},
   "outputs": [
    {
     "data": {
      "text/plain": [
       "<Axes: >"
      ]
     },
     "execution_count": 97,
     "metadata": {},
     "output_type": "execute_result"
    },
    {
     "data": {
      "image/png": "[encoded data removed]",
      "text/plain": [
       "<Figure size 640x480 with 1 Axes>"
      ]
     },
     "metadata": {},
     "output_type": "display_data"
    }
   ],
   "source": [
    "# again plotting boxplot\n",
    "snsb.boxplot(new_df['CTC'])"
   ]
  },
  {
   "cell_type": "code",
   "execution_count": null,
   "id": "bad413dd-815c-4aca-b87b-497283622d41",
   "metadata": {},
   "outputs": [],
   "source": [
    "## hence we successfully removed the outliers"
   ]
  },
  {
   "cell_type": "code",
   "execution_count": null,
   "id": "652236dc-2ad0-4a92-806d-6f88df4bb863",
   "metadata": {},
   "outputs": [],
   "source": [
    "###in this project we predict the salary of an employee,\n",
    "###so the we can use linear regresssion algorithm to  built a model"
   ]
  },
  {
   "cell_type": "markdown",
   "id": "302d1a90-e01c-4f49-843e-50784e030dfb",
   "metadata": {},
   "source": [
    "#before bulding a model we need to train test and split the data to provide a good performance"
   ]
  },
  {
   "cell_type": "markdown",
   "id": "81c419fe-1a79-428c-b64a-7cee46e7ae78",
   "metadata": {},
   "source": [
    "before train and split we need to define X and Y variable"
   ]
  },
  {
   "cell_type": "code",
   "execution_count": 52,
   "id": "4bd1d33a-1471-43a0-8028-223f0f9a029e",
   "metadata": {},
   "outputs": [],
   "source": [
    "# Scaling with StandardScaler\n",
    "from sklearn.preprocessing import StandardScaler\n",
    "sc = StandardScaler()\n",
    "d1 = new_df[['Previous CTC','Previous job change','Graduation Marks','EXP (Month)']]\n",
    "scaled_data = sc.fit_transform(d1)"
   ]
  },
  {
   "cell_type": "code",
   "execution_count": 53,
   "id": "ec53e754-0d34-476e-be18-520f09f0acc4",
   "metadata": {},
   "outputs": [],
   "source": [
    "# Create new variable as the output is in array\n",
    "data2 = pd.DataFrame(scaled_data, columns = ['Previous CTC','Previous job change','Graduation Marks','EXP (Month)'])"
   ]
  },
  {
   "cell_type": "code",
   "execution_count": 55,
   "id": "7f2cb83f-dca0-48ec-8fed-312737e63a6d",
   "metadata": {},
   "outputs": [],
   "source": [
    "# created a variable of remaining column\n",
    "con_data = new_df[['College','City','Role','CTC']]"
   ]
  },
  {
   "cell_type": "code",
   "execution_count": 56,
   "id": "53e68ab5-71d0-48c2-a44b-a2ecce3fb957",
   "metadata": {},
   "outputs": [],
   "source": [
    "# concatenate the two variables\n",
    "final_data = pd.concat([data2,con_data],axis=1)"
   ]
  },
  {
   "cell_type": "code",
   "execution_count": 57,
   "id": "9c4ae1ad-a2a7-4fc0-b1c1-1bee09ab78c8",
   "metadata": {},
   "outputs": [
    {
     "data": {
      "text/html": [
       "<div>\n",
       "<style scoped>\n",
       "    .dataframe tbody tr th:only-of-type {\n",
       "        vertical-align: middle;\n",
       "    }\n",
       "\n",
       "    .dataframe tbody tr th {\n",
       "        vertical-align: top;\n",
       "    }\n",
       "\n",
       "    .dataframe thead th {\n",
       "        text-align: right;\n",
       "    }\n",
       "</style>\n",
       "<table border=\"1\" class=\"dataframe\">\n",
       "  <thead>\n",
       "    <tr style=\"text-align: right;\">\n",
       "      <th></th>\n",
       "      <th>Previous CTC</th>\n",
       "      <th>Previous job change</th>\n",
       "      <th>Graduation Marks</th>\n",
       "      <th>EXP (Month)</th>\n",
       "      <th>College</th>\n",
       "      <th>City</th>\n",
       "      <th>Role</th>\n",
       "      <th>CTC</th>\n",
       "    </tr>\n",
       "  </thead>\n",
       "  <tbody>\n",
       "    <tr>\n",
       "      <th>0</th>\n",
       "      <td>0.000683</td>\n",
       "      <td>0.419527</td>\n",
       "      <td>0.411558</td>\n",
       "      <td>-1.421162</td>\n",
       "      <td>2</td>\n",
       "      <td>0</td>\n",
       "      <td>1</td>\n",
       "      <td>71406.58</td>\n",
       "    </tr>\n",
       "    <tr>\n",
       "      <th>1</th>\n",
       "      <td>0.234859</td>\n",
       "      <td>-1.360523</td>\n",
       "      <td>1.617149</td>\n",
       "      <td>-1.492061</td>\n",
       "      <td>2</td>\n",
       "      <td>0</td>\n",
       "      <td>0</td>\n",
       "      <td>68005.87</td>\n",
       "    </tr>\n",
       "    <tr>\n",
       "      <th>2</th>\n",
       "      <td>0.725756</td>\n",
       "      <td>-0.470498</td>\n",
       "      <td>-0.526124</td>\n",
       "      <td>-0.783065</td>\n",
       "      <td>3</td>\n",
       "      <td>0</td>\n",
       "      <td>0</td>\n",
       "      <td>76764.02</td>\n",
       "    </tr>\n",
       "    <tr>\n",
       "      <th>3</th>\n",
       "      <td>-0.978255</td>\n",
       "      <td>-0.470498</td>\n",
       "      <td>1.416217</td>\n",
       "      <td>-0.428566</td>\n",
       "      <td>3</td>\n",
       "      <td>0</td>\n",
       "      <td>0</td>\n",
       "      <td>82092.39</td>\n",
       "    </tr>\n",
       "    <tr>\n",
       "      <th>4</th>\n",
       "      <td>0.354803</td>\n",
       "      <td>1.309552</td>\n",
       "      <td>0.947376</td>\n",
       "      <td>-0.499466</td>\n",
       "      <td>1</td>\n",
       "      <td>0</td>\n",
       "      <td>0</td>\n",
       "      <td>73878.10</td>\n",
       "    </tr>\n",
       "    <tr>\n",
       "      <th>...</th>\n",
       "      <td>...</td>\n",
       "      <td>...</td>\n",
       "      <td>...</td>\n",
       "      <td>...</td>\n",
       "      <td>...</td>\n",
       "      <td>...</td>\n",
       "      <td>...</td>\n",
       "      <td>...</td>\n",
       "    </tr>\n",
       "    <tr>\n",
       "      <th>1584</th>\n",
       "      <td>0.866743</td>\n",
       "      <td>0.419527</td>\n",
       "      <td>-1.061942</td>\n",
       "      <td>1.485725</td>\n",
       "      <td>1</td>\n",
       "      <td>1</td>\n",
       "      <td>0</td>\n",
       "      <td>77283.59</td>\n",
       "    </tr>\n",
       "    <tr>\n",
       "      <th>1585</th>\n",
       "      <td>1.145559</td>\n",
       "      <td>-1.360523</td>\n",
       "      <td>-1.061942</td>\n",
       "      <td>-1.066663</td>\n",
       "      <td>1</td>\n",
       "      <td>0</td>\n",
       "      <td>0</td>\n",
       "      <td>68416.86</td>\n",
       "    </tr>\n",
       "    <tr>\n",
       "      <th>1586</th>\n",
       "      <td>-1.594958</td>\n",
       "      <td>-1.360523</td>\n",
       "      <td>0.009695</td>\n",
       "      <td>-1.421162</td>\n",
       "      <td>1</td>\n",
       "      <td>1</td>\n",
       "      <td>0</td>\n",
       "      <td>70186.19</td>\n",
       "    </tr>\n",
       "    <tr>\n",
       "      <th>1587</th>\n",
       "      <td>-0.520726</td>\n",
       "      <td>-0.470498</td>\n",
       "      <td>0.478536</td>\n",
       "      <td>-0.712165</td>\n",
       "      <td>1</td>\n",
       "      <td>0</td>\n",
       "      <td>0</td>\n",
       "      <td>73394.09</td>\n",
       "    </tr>\n",
       "    <tr>\n",
       "      <th>1588</th>\n",
       "      <td>-1.678227</td>\n",
       "      <td>0.419527</td>\n",
       "      <td>1.014354</td>\n",
       "      <td>-1.492061</td>\n",
       "      <td>2</td>\n",
       "      <td>1</td>\n",
       "      <td>1</td>\n",
       "      <td>70056.31</td>\n",
       "    </tr>\n",
       "  </tbody>\n",
       "</table>\n",
       "<p>1589 rows × 8 columns</p>\n",
       "</div>"
      ],
      "text/plain": [
       "      Previous CTC  Previous job change  Graduation Marks  EXP (Month)  \\\n",
       "0         0.000683             0.419527          0.411558    -1.421162   \n",
       "1         0.234859            -1.360523          1.617149    -1.492061   \n",
       "2         0.725756            -0.470498         -0.526124    -0.783065   \n",
       "3        -0.978255            -0.470498          1.416217    -0.428566   \n",
       "4         0.354803             1.309552          0.947376    -0.499466   \n",
       "...            ...                  ...               ...          ...   \n",
       "1584      0.866743             0.419527         -1.061942     1.485725   \n",
       "1585      1.145559            -1.360523         -1.061942    -1.066663   \n",
       "1586     -1.594958            -1.360523          0.009695    -1.421162   \n",
       "1587     -0.520726            -0.470498          0.478536    -0.712165   \n",
       "1588     -1.678227             0.419527          1.014354    -1.492061   \n",
       "\n",
       "      College  City  Role       CTC  \n",
       "0           2     0     1  71406.58  \n",
       "1           2     0     0  68005.87  \n",
       "2           3     0     0  76764.02  \n",
       "3           3     0     0  82092.39  \n",
       "4           1     0     0  73878.10  \n",
       "...       ...   ...   ...       ...  \n",
       "1584        1     1     0  77283.59  \n",
       "1585        1     0     0  68416.86  \n",
       "1586        1     1     0  70186.19  \n",
       "1587        1     0     0  73394.09  \n",
       "1588        2     1     1  70056.31  \n",
       "\n",
       "[1589 rows x 8 columns]"
      ]
     },
     "execution_count": 57,
     "metadata": {},
     "output_type": "execute_result"
    }
   ],
   "source": [
    "final_data"
   ]
  },
  {
   "cell_type": "code",
   "execution_count": 58,
   "id": "c6893a3f-c169-477c-8873-9e3317ec5722",
   "metadata": {},
   "outputs": [],
   "source": [
    "\n",
    "x = final_data.drop(\"CTC\",axis =1)\n",
    "y = final_data['CTC']"
   ]
  },
  {
   "cell_type": "code",
   "execution_count": 59,
   "id": "146a8b51-cd58-4cef-8e90-f92181ea2274",
   "metadata": {},
   "outputs": [],
   "source": [
    "from sklearn.model_selection import train_test_split"
   ]
  },
  {
   "cell_type": "code",
   "execution_count": 60,
   "id": "6c814207-f884-423d-a0fb-e47189d8ff85",
   "metadata": {},
   "outputs": [
    {
     "data": {
      "text/plain": [
       "[      Previous CTC  Previous job change  Graduation Marks  EXP (Month)  \\\n",
       " 92        0.009401             1.309552         -0.727055     1.414826   \n",
       " 627       2.127203             0.419527         -1.597760    -0.428566   \n",
       " 976       1.776691            -1.360523         -1.530783     0.634929   \n",
       " 1343     -0.177128             1.309552          0.880399    -0.570365   \n",
       " 1025      0.463323            -1.360523          1.014354    -1.279362   \n",
       " ...            ...                  ...               ...          ...   \n",
       " 622      -0.794282             0.419527         -1.195896     0.705829   \n",
       " 1292     -0.396574            -1.360523          0.277604    -1.279362   \n",
       " 1008     -1.507931            -1.360523         -0.794033    -0.995764   \n",
       " 672      -0.034488            -0.470498          1.014354    -0.215867   \n",
       " 811       1.203126             0.419527         -0.994964    -0.428566   \n",
       " \n",
       "       College  City  Role  \n",
       " 92          3     0     1  \n",
       " 627         1     0     0  \n",
       " 976         1     1     0  \n",
       " 1343        2     1     0  \n",
       " 1025        2     0     0  \n",
       " ...       ...   ...   ...  \n",
       " 622         1     1     0  \n",
       " 1292        3     0     0  \n",
       " 1008        1     0     0  \n",
       " 672         2     1     0  \n",
       " 811         3     1     0  \n",
       " \n",
       " [1271 rows x 7 columns],\n",
       "       Previous CTC  Previous job change  Graduation Marks  EXP (Month)  \\\n",
       " 328       1.013892            -0.470498         -0.526124     1.769324   \n",
       " 176      -0.514112            -0.470498          1.617149    -0.074068   \n",
       " 439      -0.447076            -1.360523         -1.195896    -0.924864   \n",
       " 104      -0.483751             1.309552         -0.526124    -0.357666   \n",
       " 380      -2.079092            -0.470498         -0.526124    -0.853964   \n",
       " ...            ...                  ...               ...          ...   \n",
       " 967      -1.026353            -0.470498          0.813422     0.351330   \n",
       " 1335      0.967748            -1.360523         -0.861010    -1.492061   \n",
       " 357      -0.693427            -1.360523         -0.593101     0.564030   \n",
       " 683      -1.193793             1.309552          0.545513     0.989428   \n",
       " 480       1.273018            -0.470498          1.282263     1.698425   \n",
       " \n",
       "       College  City  Role  \n",
       " 328         3     0     1  \n",
       " 176         3     1     0  \n",
       " 439         1     0     0  \n",
       " 104         1     0     0  \n",
       " 380         2     0     1  \n",
       " ...       ...   ...   ...  \n",
       " 967         3     0     0  \n",
       " 1335        3     0     0  \n",
       " 357         2     1     0  \n",
       " 683         2     0     0  \n",
       " 480         1     1     0  \n",
       " \n",
       " [318 rows x 7 columns],\n",
       " 92      99551.34\n",
       " 627     67675.99\n",
       " 976     69262.14\n",
       " 1343    59950.89\n",
       " 1025    66538.09\n",
       "           ...   \n",
       " 622     75835.34\n",
       " 1292    60310.88\n",
       " 1008    81681.11\n",
       " 672     60479.67\n",
       " 811     58048.12\n",
       " Name: CTC, Length: 1271, dtype: float64,\n",
       " 328     114996.23\n",
       " 176      73831.46\n",
       " 439      73939.42\n",
       " 104      66657.86\n",
       " 380      71243.97\n",
       "           ...    \n",
       " 967      72842.01\n",
       " 1335     66397.77\n",
       " 357      71592.06\n",
       " 683      66654.11\n",
       " 480      80614.98\n",
       " Name: CTC, Length: 318, dtype: float64]"
      ]
     },
     "execution_count": 60,
     "metadata": {},
     "output_type": "execute_result"
    }
   ],
   "source": [
    "train_test_split(x,y,test_size = 0.2)"
   ]
  },
  {
   "cell_type": "code",
   "execution_count": 77,
   "id": "374ed75b-9db8-43c5-b1d3-670a26a09783",
   "metadata": {},
   "outputs": [],
   "source": [
    "x_train,x_test,y_train,y_test = train_test_split(x,y,test_size = 0.2,random_state = 51)\n"
   ]
  },
  {
   "cell_type": "code",
   "execution_count": 62,
   "id": "4d26cec9-a54c-40d8-a76a-c300ec94364f",
   "metadata": {},
   "outputs": [
    {
     "name": "stdout",
     "output_type": "stream",
     "text": [
      "      Previous CTC  Previous job change  Graduation Marks  EXP (Month)  \\\n",
      "1043     -1.301863            -0.470498         -1.396828    -0.783065   \n",
      "9        -0.657955            -1.360523         -0.861010     1.485725   \n",
      "1030     -0.515165            -0.470498         -0.459146     0.493130   \n",
      "795      -0.853652            -1.360523          1.416217    -0.853964   \n",
      "1493      1.582647             1.309552          1.349240     0.351330   \n",
      "...            ...                  ...               ...          ...   \n",
      "814       0.507062            -0.470498          1.282263    -0.215867   \n",
      "211      -0.194864             1.309552         -1.329851     0.067732   \n",
      "1234      0.294079             1.309552          0.277604     0.422230   \n",
      "442       1.877696            -0.470498          0.679467    -1.492061   \n",
      "806       1.202825             1.309552          1.483195     0.067732   \n",
      "\n",
      "      College  City  Role  \n",
      "1043        1     0     0  \n",
      "9           1     0     0  \n",
      "1030        3     1     1  \n",
      "795         1     1     1  \n",
      "1493        1     0     0  \n",
      "...       ...   ...   ...  \n",
      "814         3     1     0  \n",
      "211         3     1     0  \n",
      "1234        3     0     0  \n",
      "442         3     1     0  \n",
      "806         3     0     0  \n",
      "\n",
      "[1271 rows x 7 columns] (1271, 7)\n"
     ]
    }
   ],
   "source": [
    "print(x_train,x_train.shape)"
   ]
  },
  {
   "cell_type": "code",
   "execution_count": 147,
   "id": "f7a3e004-e587-4850-acea-3a7af5abc15b",
   "metadata": {},
   "outputs": [],
   "source": [
    "# building a model using Linear REgression algorithm\n"
   ]
  },
  {
   "cell_type": "code",
   "execution_count": 63,
   "id": "224a4caf-3842-4b01-9c19-94de7c4f685a",
   "metadata": {},
   "outputs": [],
   "source": [
    "from sklearn.linear_model import LinearRegression"
   ]
  },
  {
   "cell_type": "code",
   "execution_count": 101,
   "id": "3da518aa-70c7-4b71-99c6-d68f8918270c",
   "metadata": {},
   "outputs": [],
   "source": [
    "LR = LinearRegression()"
   ]
  },
  {
   "cell_type": "code",
   "execution_count": 150,
   "id": "bdcbbcf4-0c12-442d-848c-55f7732883ec",
   "metadata": {},
   "outputs": [],
   "source": [
    "#NOW fitting a linearRegression model"
   ]
  },
  {
   "cell_type": "code",
   "execution_count": 65,
   "id": "91aa23e3-6dc7-4417-857c-dd52de944506",
   "metadata": {},
   "outputs": [
    {
     "data": {
      "text/html": [
       "<style>#sk-container-id-1 {color: black;background-color: white;}#sk-container-id-1 pre{padding: 0;}#sk-container-id-1 div.sk-toggleable {background-color: white;}#sk-container-id-1 label.sk-toggleable__label {cursor: pointer;display: block;width: 100%;margin-bottom: 0;padding: 0.3em;box-sizing: border-box;text-align: center;}#sk-container-id-1 label.sk-toggleable__label-arrow:before {content: \"▸\";float: left;margin-right: 0.25em;color: #696969;}#sk-container-id-1 label.sk-toggleable__label-arrow:hover:before {color: black;}#sk-container-id-1 div.sk-estimator:hover label.sk-toggleable__label-arrow:before {color: black;}#sk-container-id-1 div.sk-toggleable__content {max-height: 0;max-width: 0;overflow: hidden;text-align: left;background-color: #f0f8ff;}#sk-container-id-1 div.sk-toggleable__content pre {margin: 0.2em;color: black;border-radius: 0.25em;background-color: #f0f8ff;}#sk-container-id-1 input.sk-toggleable__control:checked~div.sk-toggleable__content {max-height: 200px;max-width: 100%;overflow: auto;}#sk-container-id-1 input.sk-toggleable__control:checked~label.sk-toggleable__label-arrow:before {content: \"▾\";}#sk-container-id-1 div.sk-estimator input.sk-toggleable__control:checked~label.sk-toggleable__label {background-color: #d4ebff;}#sk-container-id-1 div.sk-label input.sk-toggleable__control:checked~label.sk-toggleable__label {background-color: #d4ebff;}#sk-container-id-1 input.sk-hidden--visually {border: 0;clip: rect(1px 1px 1px 1px);clip: rect(1px, 1px, 1px, 1px);height: 1px;margin: -1px;overflow: hidden;padding: 0;position: absolute;width: 1px;}#sk-container-id-1 div.sk-estimator {font-family: monospace;background-color: #f0f8ff;border: 1px dotted black;border-radius: 0.25em;box-sizing: border-box;margin-bottom: 0.5em;}#sk-container-id-1 div.sk-estimator:hover {background-color: #d4ebff;}#sk-container-id-1 div.sk-parallel-item::after {content: \"\";width: 100%;border-bottom: 1px solid gray;flex-grow: 1;}#sk-container-id-1 div.sk-label:hover label.sk-toggleable__label {background-color: #d4ebff;}#sk-container-id-1 div.sk-serial::before {content: \"\";position: absolute;border-left: 1px solid gray;box-sizing: border-box;top: 0;bottom: 0;left: 50%;z-index: 0;}#sk-container-id-1 div.sk-serial {display: flex;flex-direction: column;align-items: center;background-color: white;padding-right: 0.2em;padding-left: 0.2em;position: relative;}#sk-container-id-1 div.sk-item {position: relative;z-index: 1;}#sk-container-id-1 div.sk-parallel {display: flex;align-items: stretch;justify-content: center;background-color: white;position: relative;}#sk-container-id-1 div.sk-item::before, #sk-container-id-1 div.sk-parallel-item::before {content: \"\";position: absolute;border-left: 1px solid gray;box-sizing: border-box;top: 0;bottom: 0;left: 50%;z-index: -1;}#sk-container-id-1 div.sk-parallel-item {display: flex;flex-direction: column;z-index: 1;position: relative;background-color: white;}#sk-container-id-1 div.sk-parallel-item:first-child::after {align-self: flex-end;width: 50%;}#sk-container-id-1 div.sk-parallel-item:last-child::after {align-self: flex-start;width: 50%;}#sk-container-id-1 div.sk-parallel-item:only-child::after {width: 0;}#sk-container-id-1 div.sk-dashed-wrapped {border: 1px dashed gray;margin: 0 0.4em 0.5em 0.4em;box-sizing: border-box;padding-bottom: 0.4em;background-color: white;}#sk-container-id-1 div.sk-label label {font-family: monospace;font-weight: bold;display: inline-block;line-height: 1.2em;}#sk-container-id-1 div.sk-label-container {text-align: center;}#sk-container-id-1 div.sk-container {/* jupyter's `normalize.less` sets `[hidden] { display: none; }` but bootstrap.min.css set `[hidden] { display: none !important; }` so we also need the `!important` here to be able to override the default hidden behavior on the sphinx rendered scikit-learn.org. See: https://github.com/scikit-learn/scikit-learn/issues/21755 */display: inline-block !important;position: relative;}#sk-container-id-1 div.sk-text-repr-fallback {display: none;}</style><div id=\"sk-container-id-1\" class=\"sk-top-container\"><div class=\"sk-text-repr-fallback\"><pre>LinearRegression()</pre><b>In a Jupyter environment, please rerun this cell to show the HTML representation or trust the notebook. <br />On GitHub, the HTML representation is unable to render, please try loading this page with nbviewer.org.</b></div><div class=\"sk-container\" hidden><div class=\"sk-item\"><div class=\"sk-estimator sk-toggleable\"><input class=\"sk-toggleable__control sk-hidden--visually\" id=\"sk-estimator-id-1\" type=\"checkbox\" checked><label for=\"sk-estimator-id-1\" class=\"sk-toggleable__label sk-toggleable__label-arrow\">LinearRegression</label><div class=\"sk-toggleable__content\"><pre>LinearRegression()</pre></div></div></div></div></div>"
      ],
      "text/plain": [
       "LinearRegression()"
      ]
     },
     "execution_count": 65,
     "metadata": {},
     "output_type": "execute_result"
    }
   ],
   "source": [
    "LR.fit(x_train,y_train)"
   ]
  },
  {
   "cell_type": "code",
   "execution_count": 66,
   "id": "493b18ed-4d87-44ff-a1fb-112e398029bf",
   "metadata": {},
   "outputs": [
    {
     "name": "stdout",
     "output_type": "stream",
     "text": [
      "[ 2735.7009488    392.57379069   204.66064317  3739.35819621\n",
      "  -546.22604519   362.87335613 19323.4913732 ]\n"
     ]
    }
   ],
   "source": [
    "print(LR.coef_) #to checking the coefficient value"
   ]
  },
  {
   "cell_type": "code",
   "execution_count": 67,
   "id": "4f5d5926-3759-4de3-ade2-16bfc97d9724",
   "metadata": {},
   "outputs": [
    {
     "name": "stdout",
     "output_type": "stream",
     "text": [
      "72258.78190244721\n"
     ]
    }
   ],
   "source": [
    "print(LR.intercept_) # to checking the intercept value"
   ]
  },
  {
   "cell_type": "code",
   "execution_count": 68,
   "id": "2eb9199b-e746-4d60-b730-2089b9a6fe9d",
   "metadata": {},
   "outputs": [
    {
     "data": {
      "text/plain": [
       "array([85426.38302573, 66026.34303881, 69385.01519854, ...,\n",
       "       61865.74673395, 67538.19848529, 81054.50836888])"
      ]
     },
     "execution_count": 68,
     "metadata": {},
     "output_type": "execute_result"
    }
   ],
   "source": [
    "LR.predict(x) # predicting the values of y`"
   ]
  },
  {
   "cell_type": "code",
   "execution_count": 69,
   "id": "e20c7be7-b11d-4958-b190-aeb185d8f1c9",
   "metadata": {},
   "outputs": [
    {
     "data": {
      "text/plain": [
       "array([ 64205.13793917,  72087.58830677,  97088.91558507,  77307.0706303 ,\n",
       "        68773.43357413,  76884.0581859 ,  67722.75209252,  63919.96197339,\n",
       "        76944.19727417,  68101.28583499,  74318.83645823,  73282.39096353,\n",
       "        64593.28862286,  67901.79201774,  74967.66055501,  72082.31038326,\n",
       "        76055.23965933,  76438.17151058,  61251.69982802,  72065.24519735,\n",
       "        73418.68546837,  69107.82975564,  68139.62090202,  67519.66005913,\n",
       "        64634.64949852,  73307.43446646,  76721.79197327,  85076.89498372,\n",
       "        92348.09254992,  66086.59899099,  66631.67467757,  70005.20336583,\n",
       "        73260.19260498,  75707.07189701,  82540.25445725,  72124.6337263 ,\n",
       "        64782.56324808,  91798.99244768,  60600.7414764 ,  81696.24773328,\n",
       "        68352.02345963,  64730.70259918,  91137.52754702,  72456.59110589,\n",
       "        75283.23129709,  68608.2673718 ,  75669.22066425,  76012.28658368,\n",
       "        89335.68328881,  73391.54922117,  66947.41460656,  71589.41175404,\n",
       "        69618.50826744,  75280.42335883,  62150.70668904,  91500.38021621,\n",
       "        69254.08649157,  63651.72759075,  79441.94829511,  91028.5838542 ,\n",
       "        70695.87086265,  76800.46599733,  61509.84087773,  91913.37229461,\n",
       "        78325.77178031,  68410.93686548,  96353.02023421,  67182.63384178,\n",
       "        73509.12343152,  78519.87048437,  66907.46167762,  69056.81325274,\n",
       "        69885.5058745 ,  85343.2956137 ,  76861.94139912,  65549.42213421,\n",
       "        76868.30703666,  72077.29189683,  70046.02102435,  88172.9345015 ,\n",
       "        90868.7240124 ,  70974.97813357,  66620.45320399,  74576.27772637,\n",
       "        71959.96735676,  84475.99256884,  74401.74845449,  74148.28935504,\n",
       "        70543.71341812,  95092.31725893,  76300.93389865,  71485.49001625,\n",
       "        70284.26957128,  76950.37817154,  73301.59227921,  77453.98517417,\n",
       "        84352.15940786,  68232.75561783,  69100.51009645,  76564.51079781,\n",
       "        76217.19052397,  76826.07353511,  72429.38276567, 100057.31578712,\n",
       "        75996.0439748 ,  82814.18594812,  63390.82458833,  64153.93563096,\n",
       "        66645.75698447,  93364.33810887,  64082.29957194,  96569.50456471,\n",
       "        69365.62436326,  77438.36028816,  66396.52570946,  72174.25037689,\n",
       "        96980.91026911,  70885.65368964,  78093.03050996,  64953.2380349 ,\n",
       "        73955.78781818,  65316.81099553,  66142.48923224,  73682.51575485,\n",
       "        65692.37714334,  68310.97718228,  92441.62761183,  72226.03415126,\n",
       "        78130.69472955,  65226.58121133,  73392.82093323,  77733.8428887 ,\n",
       "        88203.54855858,  70387.22288674,  86881.08793004,  75252.93492145,\n",
       "       100762.97779078,  69142.40325656,  62002.17264949,  79586.72205426,\n",
       "        67295.29218325,  73198.85717791,  73593.38801823,  79613.55444583,\n",
       "        84568.41896985,  65498.68534977,  62714.81901667,  73091.78089839,\n",
       "        73887.74517163,  76572.95232058,  75154.46025865,  65451.68256364,\n",
       "        73320.98491736,  97488.16112917,  73688.74465065,  85776.82255523,\n",
       "        89184.95730162,  63531.18971197,  88078.48007135,  90531.90835275,\n",
       "        93693.53792066,  79326.58684006,  69100.40938585,  96049.01781472,\n",
       "        73956.65685505,  75036.62404302,  67847.58596596,  74613.18846113,\n",
       "        62487.76311916,  64638.8264055 ,  69674.06674452,  69452.49660071,\n",
       "        75943.56377555,  80197.48536957,  77328.28858804,  70523.83220081,\n",
       "        74805.55460738,  64732.87611837,  62919.47713899,  67599.23615857,\n",
       "        70741.90185978,  69808.22077941,  64650.82410823,  74964.12062485,\n",
       "        72500.46237167,  78485.66554461,  66077.49925984,  84040.58718382,\n",
       "        62588.81174566,  66947.41460656,  85998.19653323,  70129.72067327,\n",
       "        63659.76789061,  69480.86768981,  61542.28265715,  58609.98380932,\n",
       "        66059.54473126,  83440.82417825,  64296.12502315,  64129.62130475,\n",
       "        72375.51354161,  78485.66554461,  87762.14597398,  75808.86317748,\n",
       "        99045.16638253,  71851.92836098,  69023.02525675,  89070.07889809,\n",
       "        64566.23454868,  89158.52436618,  98413.31395299,  66099.85411151,\n",
       "        76098.43661928,  66559.11690302,  64733.05342274,  94142.46436612,\n",
       "        67811.85917693,  72715.97673611,  62433.80822692,  74245.90683455,\n",
       "        66800.23868668,  76467.19427976,  87103.01452139,  90788.97987437,\n",
       "        71182.43407237,  68365.91398116,  70423.85276947,  86665.10495541,\n",
       "        68936.19998453,  70621.61113183,  83325.84936413,  88981.015198  ,\n",
       "        69986.66874264,  69684.79972551,  81316.38854498,  97867.52792119,\n",
       "        78438.93714748,  70748.43943144,  72495.91451768,  92998.10964595,\n",
       "        66912.46815836,  77309.01199502,  96784.19871694,  74182.91304161,\n",
       "        72886.21735594,  73209.71469853,  76636.38484315,  64176.80456024,\n",
       "        71759.67704193,  63335.29463018,  86234.27715223,  63405.68927968,\n",
       "        68210.50005898,  70638.01012169,  66804.47602228,  78247.24127254,\n",
       "        78704.26914024,  75793.88385952,  74496.0821545 ,  70255.14831201,\n",
       "        92690.88302416,  66001.5445105 ,  92134.14233366,  70548.25646326,\n",
       "        72738.6944467 ,  66720.69904368,  68996.43274276,  84569.9728057 ,\n",
       "        73865.57259611,  86745.27087801,  67111.90763124,  75668.72981675,\n",
       "        71821.44943047,  75767.08228594,  72037.54081809,  87580.21317422,\n",
       "        69074.44434093,  65371.86387008,  66363.87781589,  63304.13581054,\n",
       "        67520.4656036 ,  87216.80622865,  94330.80971224,  66789.03246248,\n",
       "        62313.2371893 ,  76461.3606772 ,  71332.41914254,  72734.16678306,\n",
       "        90844.23819652,  91133.73748236,  66688.08380387,  68094.3045786 ,\n",
       "        64686.16762557,  61664.64558365,  69489.35545824,  72376.8916117 ,\n",
       "        70772.83681059,  74313.60416062,  80401.80463476,  78184.47795626,\n",
       "        72247.01882099,  72114.86035445,  73011.7353259 ,  78064.18159609,\n",
       "        69992.42184391,  72198.43991785,  68415.68576265,  69629.16816326,\n",
       "        71837.78585697,  75179.49326435,  69243.23907896,  76656.1550791 ,\n",
       "        66547.69971125,  75155.48808377,  93698.94929437,  66789.03246248,\n",
       "        68812.95230301,  79390.80031151])"
      ]
     },
     "execution_count": 69,
     "metadata": {},
     "output_type": "execute_result"
    }
   ],
   "source": [
    "LR.predict(x_test[0:])"
   ]
  },
  {
   "cell_type": "code",
   "execution_count": 156,
   "id": "cd7c1eae-98bf-4803-be8f-b5e061a72fbb",
   "metadata": {},
   "outputs": [],
   "source": [
    "#checking the accurecy score of model"
   ]
  },
  {
   "cell_type": "code",
   "execution_count": 70,
   "id": "9135dcbb-171b-473b-9fe4-8a9696fe1fe8",
   "metadata": {},
   "outputs": [
    {
     "data": {
      "text/plain": [
       "0.5668152129310553"
      ]
     },
     "execution_count": 70,
     "metadata": {},
     "output_type": "execute_result"
    }
   ],
   "source": [
    "LR.score(x_test,y_test)"
   ]
  },
  {
   "cell_type": "code",
   "execution_count": null,
   "id": "515b0913-0823-44d6-8d8a-4b89312787dd",
   "metadata": {},
   "outputs": [],
   "source": [
    "#to increases the performance of model we can use Ridge and lasso model"
   ]
  },
  {
   "cell_type": "code",
   "execution_count": null,
   "id": "cb166fb3-560e-4f80-aadf-075c49fd17b0",
   "metadata": {},
   "outputs": [],
   "source": [
    "# from sklearn.preprocessing import StandardScaler\n",
    "# sc = StandardScaler()\n",
    "# d1 = x_train[['Previous CTC','Previous job change','Graduation Marks','EXP (Month)']]\n",
    "# scaled_data = sc.fit_transform(d1)"
   ]
  },
  {
   "cell_type": "code",
   "execution_count": null,
   "id": "79e1fa02-61f3-491e-b972-0b81018218b6",
   "metadata": {},
   "outputs": [],
   "source": []
  },
  {
   "cell_type": "code",
   "execution_count": null,
   "id": "63c100a7-5918-4a00-8708-1737bd96e79a",
   "metadata": {},
   "outputs": [],
   "source": []
  },
  {
   "cell_type": "code",
   "execution_count": 71,
   "id": "fd755cbf-ad69-4938-a9f7-ce394c88b584",
   "metadata": {},
   "outputs": [],
   "source": [
    "from sklearn.linear_model import Ridge"
   ]
  },
  {
   "cell_type": "code",
   "execution_count": 99,
   "id": "e2afcae7-772f-444a-9c6a-b1e926d654bb",
   "metadata": {},
   "outputs": [
    {
     "data": {
      "text/html": [
       "<style>#sk-container-id-8 {color: black;background-color: white;}#sk-container-id-8 pre{padding: 0;}#sk-container-id-8 div.sk-toggleable {background-color: white;}#sk-container-id-8 label.sk-toggleable__label {cursor: pointer;display: block;width: 100%;margin-bottom: 0;padding: 0.3em;box-sizing: border-box;text-align: center;}#sk-container-id-8 label.sk-toggleable__label-arrow:before {content: \"▸\";float: left;margin-right: 0.25em;color: #696969;}#sk-container-id-8 label.sk-toggleable__label-arrow:hover:before {color: black;}#sk-container-id-8 div.sk-estimator:hover label.sk-toggleable__label-arrow:before {color: black;}#sk-container-id-8 div.sk-toggleable__content {max-height: 0;max-width: 0;overflow: hidden;text-align: left;background-color: #f0f8ff;}#sk-container-id-8 div.sk-toggleable__content pre {margin: 0.2em;color: black;border-radius: 0.25em;background-color: #f0f8ff;}#sk-container-id-8 input.sk-toggleable__control:checked~div.sk-toggleable__content {max-height: 200px;max-width: 100%;overflow: auto;}#sk-container-id-8 input.sk-toggleable__control:checked~label.sk-toggleable__label-arrow:before {content: \"▾\";}#sk-container-id-8 div.sk-estimator input.sk-toggleable__control:checked~label.sk-toggleable__label {background-color: #d4ebff;}#sk-container-id-8 div.sk-label input.sk-toggleable__control:checked~label.sk-toggleable__label {background-color: #d4ebff;}#sk-container-id-8 input.sk-hidden--visually {border: 0;clip: rect(1px 1px 1px 1px);clip: rect(1px, 1px, 1px, 1px);height: 1px;margin: -1px;overflow: hidden;padding: 0;position: absolute;width: 1px;}#sk-container-id-8 div.sk-estimator {font-family: monospace;background-color: #f0f8ff;border: 1px dotted black;border-radius: 0.25em;box-sizing: border-box;margin-bottom: 0.5em;}#sk-container-id-8 div.sk-estimator:hover {background-color: #d4ebff;}#sk-container-id-8 div.sk-parallel-item::after {content: \"\";width: 100%;border-bottom: 1px solid gray;flex-grow: 1;}#sk-container-id-8 div.sk-label:hover label.sk-toggleable__label {background-color: #d4ebff;}#sk-container-id-8 div.sk-serial::before {content: \"\";position: absolute;border-left: 1px solid gray;box-sizing: border-box;top: 0;bottom: 0;left: 50%;z-index: 0;}#sk-container-id-8 div.sk-serial {display: flex;flex-direction: column;align-items: center;background-color: white;padding-right: 0.2em;padding-left: 0.2em;position: relative;}#sk-container-id-8 div.sk-item {position: relative;z-index: 1;}#sk-container-id-8 div.sk-parallel {display: flex;align-items: stretch;justify-content: center;background-color: white;position: relative;}#sk-container-id-8 div.sk-item::before, #sk-container-id-8 div.sk-parallel-item::before {content: \"\";position: absolute;border-left: 1px solid gray;box-sizing: border-box;top: 0;bottom: 0;left: 50%;z-index: -1;}#sk-container-id-8 div.sk-parallel-item {display: flex;flex-direction: column;z-index: 1;position: relative;background-color: white;}#sk-container-id-8 div.sk-parallel-item:first-child::after {align-self: flex-end;width: 50%;}#sk-container-id-8 div.sk-parallel-item:last-child::after {align-self: flex-start;width: 50%;}#sk-container-id-8 div.sk-parallel-item:only-child::after {width: 0;}#sk-container-id-8 div.sk-dashed-wrapped {border: 1px dashed gray;margin: 0 0.4em 0.5em 0.4em;box-sizing: border-box;padding-bottom: 0.4em;background-color: white;}#sk-container-id-8 div.sk-label label {font-family: monospace;font-weight: bold;display: inline-block;line-height: 1.2em;}#sk-container-id-8 div.sk-label-container {text-align: center;}#sk-container-id-8 div.sk-container {/* jupyter's `normalize.less` sets `[hidden] { display: none; }` but bootstrap.min.css set `[hidden] { display: none !important; }` so we also need the `!important` here to be able to override the default hidden behavior on the sphinx rendered scikit-learn.org. See: https://github.com/scikit-learn/scikit-learn/issues/21755 */display: inline-block !important;position: relative;}#sk-container-id-8 div.sk-text-repr-fallback {display: none;}</style><div id=\"sk-container-id-8\" class=\"sk-top-container\"><div class=\"sk-text-repr-fallback\"><pre>Ridge()</pre><b>In a Jupyter environment, please rerun this cell to show the HTML representation or trust the notebook. <br />On GitHub, the HTML representation is unable to render, please try loading this page with nbviewer.org.</b></div><div class=\"sk-container\" hidden><div class=\"sk-item\"><div class=\"sk-estimator sk-toggleable\"><input class=\"sk-toggleable__control sk-hidden--visually\" id=\"sk-estimator-id-8\" type=\"checkbox\" checked><label for=\"sk-estimator-id-8\" class=\"sk-toggleable__label sk-toggleable__label-arrow\">Ridge</label><div class=\"sk-toggleable__content\"><pre>Ridge()</pre></div></div></div></div></div>"
      ],
      "text/plain": [
       "Ridge()"
      ]
     },
     "execution_count": 99,
     "metadata": {},
     "output_type": "execute_result"
    }
   ],
   "source": [
    "LR_R = Ridge()\n",
    "LR_R.fit(x_train,y_train)"
   ]
  },
  {
   "cell_type": "code",
   "execution_count": 100,
   "id": "309d6a64-6a5f-41c9-ad4a-428657d4180d",
   "metadata": {},
   "outputs": [
    {
     "data": {
      "text/plain": [
       "0.5526563670985793"
      ]
     },
     "execution_count": 100,
     "metadata": {},
     "output_type": "execute_result"
    }
   ],
   "source": [
    "LR_R.score(x_test,y_test)"
   ]
  },
  {
   "cell_type": "code",
   "execution_count": null,
   "id": "ec24604a-d312-48d5-9d29-c5af92211a83",
   "metadata": {},
   "outputs": [],
   "source": [
    "#  using another algorithm [Randomforest]"
   ]
  },
  {
   "cell_type": "code",
   "execution_count": 76,
   "id": "eb6a6591-d813-40d2-977a-7286022386a4",
   "metadata": {},
   "outputs": [
    {
     "name": "stdout",
     "output_type": "stream",
     "text": [
      "(1589, 7)\n",
      "(1589,)\n"
     ]
    }
   ],
   "source": [
    "print(x.shape)\n",
    "print(y.shape)"
   ]
  },
  {
   "cell_type": "code",
   "execution_count": 79,
   "id": "7d0d5dee-9132-452b-8dcf-94f1fb2001da",
   "metadata": {},
   "outputs": [],
   "source": [
    "from sklearn.ensemble import RandomForestRegressor"
   ]
  },
  {
   "cell_type": "code",
   "execution_count": 90,
   "id": "5e5146bd-3cef-447b-9c8c-0d4d9dbb71aa",
   "metadata": {},
   "outputs": [],
   "source": [
    "regressor = RandomForestRegressor(n_estimators = 200,criterion ='friedman_mse')"
   ]
  },
  {
   "cell_type": "code",
   "execution_count": 91,
   "id": "58026a27-20bc-41bd-8766-3fd7786a9ff5",
   "metadata": {},
   "outputs": [
    {
     "data": {
      "text/html": [
       "<style>#sk-container-id-5 {color: black;background-color: white;}#sk-container-id-5 pre{padding: 0;}#sk-container-id-5 div.sk-toggleable {background-color: white;}#sk-container-id-5 label.sk-toggleable__label {cursor: pointer;display: block;width: 100%;margin-bottom: 0;padding: 0.3em;box-sizing: border-box;text-align: center;}#sk-container-id-5 label.sk-toggleable__label-arrow:before {content: \"▸\";float: left;margin-right: 0.25em;color: #696969;}#sk-container-id-5 label.sk-toggleable__label-arrow:hover:before {color: black;}#sk-container-id-5 div.sk-estimator:hover label.sk-toggleable__label-arrow:before {color: black;}#sk-container-id-5 div.sk-toggleable__content {max-height: 0;max-width: 0;overflow: hidden;text-align: left;background-color: #f0f8ff;}#sk-container-id-5 div.sk-toggleable__content pre {margin: 0.2em;color: black;border-radius: 0.25em;background-color: #f0f8ff;}#sk-container-id-5 input.sk-toggleable__control:checked~div.sk-toggleable__content {max-height: 200px;max-width: 100%;overflow: auto;}#sk-container-id-5 input.sk-toggleable__control:checked~label.sk-toggleable__label-arrow:before {content: \"▾\";}#sk-container-id-5 div.sk-estimator input.sk-toggleable__control:checked~label.sk-toggleable__label {background-color: #d4ebff;}#sk-container-id-5 div.sk-label input.sk-toggleable__control:checked~label.sk-toggleable__label {background-color: #d4ebff;}#sk-container-id-5 input.sk-hidden--visually {border: 0;clip: rect(1px 1px 1px 1px);clip: rect(1px, 1px, 1px, 1px);height: 1px;margin: -1px;overflow: hidden;padding: 0;position: absolute;width: 1px;}#sk-container-id-5 div.sk-estimator {font-family: monospace;background-color: #f0f8ff;border: 1px dotted black;border-radius: 0.25em;box-sizing: border-box;margin-bottom: 0.5em;}#sk-container-id-5 div.sk-estimator:hover {background-color: #d4ebff;}#sk-container-id-5 div.sk-parallel-item::after {content: \"\";width: 100%;border-bottom: 1px solid gray;flex-grow: 1;}#sk-container-id-5 div.sk-label:hover label.sk-toggleable__label {background-color: #d4ebff;}#sk-container-id-5 div.sk-serial::before {content: \"\";position: absolute;border-left: 1px solid gray;box-sizing: border-box;top: 0;bottom: 0;left: 50%;z-index: 0;}#sk-container-id-5 div.sk-serial {display: flex;flex-direction: column;align-items: center;background-color: white;padding-right: 0.2em;padding-left: 0.2em;position: relative;}#sk-container-id-5 div.sk-item {position: relative;z-index: 1;}#sk-container-id-5 div.sk-parallel {display: flex;align-items: stretch;justify-content: center;background-color: white;position: relative;}#sk-container-id-5 div.sk-item::before, #sk-container-id-5 div.sk-parallel-item::before {content: \"\";position: absolute;border-left: 1px solid gray;box-sizing: border-box;top: 0;bottom: 0;left: 50%;z-index: -1;}#sk-container-id-5 div.sk-parallel-item {display: flex;flex-direction: column;z-index: 1;position: relative;background-color: white;}#sk-container-id-5 div.sk-parallel-item:first-child::after {align-self: flex-end;width: 50%;}#sk-container-id-5 div.sk-parallel-item:last-child::after {align-self: flex-start;width: 50%;}#sk-container-id-5 div.sk-parallel-item:only-child::after {width: 0;}#sk-container-id-5 div.sk-dashed-wrapped {border: 1px dashed gray;margin: 0 0.4em 0.5em 0.4em;box-sizing: border-box;padding-bottom: 0.4em;background-color: white;}#sk-container-id-5 div.sk-label label {font-family: monospace;font-weight: bold;display: inline-block;line-height: 1.2em;}#sk-container-id-5 div.sk-label-container {text-align: center;}#sk-container-id-5 div.sk-container {/* jupyter's `normalize.less` sets `[hidden] { display: none; }` but bootstrap.min.css set `[hidden] { display: none !important; }` so we also need the `!important` here to be able to override the default hidden behavior on the sphinx rendered scikit-learn.org. See: https://github.com/scikit-learn/scikit-learn/issues/21755 */display: inline-block !important;position: relative;}#sk-container-id-5 div.sk-text-repr-fallback {display: none;}</style><div id=\"sk-container-id-5\" class=\"sk-top-container\"><div class=\"sk-text-repr-fallback\"><pre>RandomForestRegressor(criterion=&#x27;friedman_mse&#x27;, n_estimators=200)</pre><b>In a Jupyter environment, please rerun this cell to show the HTML representation or trust the notebook. <br />On GitHub, the HTML representation is unable to render, please try loading this page with nbviewer.org.</b></div><div class=\"sk-container\" hidden><div class=\"sk-item\"><div class=\"sk-estimator sk-toggleable\"><input class=\"sk-toggleable__control sk-hidden--visually\" id=\"sk-estimator-id-5\" type=\"checkbox\" checked><label for=\"sk-estimator-id-5\" class=\"sk-toggleable__label sk-toggleable__label-arrow\">RandomForestRegressor</label><div class=\"sk-toggleable__content\"><pre>RandomForestRegressor(criterion=&#x27;friedman_mse&#x27;, n_estimators=200)</pre></div></div></div></div></div>"
      ],
      "text/plain": [
       "RandomForestRegressor(criterion='friedman_mse', n_estimators=200)"
      ]
     },
     "execution_count": 91,
     "metadata": {},
     "output_type": "execute_result"
    }
   ],
   "source": [
    "regressor.fit(x_train,y_train)"
   ]
  },
  {
   "cell_type": "code",
   "execution_count": 92,
   "id": "b9f86ed8-7bc7-48ae-a2eb-3ab5b6af1715",
   "metadata": {},
   "outputs": [
    {
     "data": {
      "text/plain": [
       "0.684046525020926"
      ]
     },
     "execution_count": 92,
     "metadata": {},
     "output_type": "execute_result"
    }
   ],
   "source": [
    "regressor.score(x_test,y_test)"
   ]
  },
  {
   "cell_type": "code",
   "execution_count": null,
   "id": "a10a2245-a6eb-4443-a24d-37a8fe3e4066",
   "metadata": {},
   "outputs": [],
   "source": [
    "#question and answer"
   ]
  },
  {
   "cell_type": "markdown",
   "id": "f78822b7-15c1-42c4-9e34-ae7c6baa5d33",
   "metadata": {},
   "source": [
    "1> view\n",
    "\n",
    "my view should be as follows\n",
    "Data Preparation:\n",
    "Convert College Field into Numerical Data\n",
    "Convert City Field into Numerical Data\n",
    "Create Dummy Variables for Role: Convert categorical variable \"Role\" into dummy variables.\n",
    "    \n",
    "Data Cleaning:\n",
    "Handle Missing Values: Impute missing values in the dataset, either by filling them with the mean, median, mode, or using more sophisticated techniques like KNN imputation.\n",
    "Identify and Handle Outliers: Detect outliers using statistical methods  IQR, or visualization techniques like box plots.  transform outliers appropriately.\n",
    "    \n",
    " Model Building:\n",
    "Choose Regression Model: Select regression models like Linear Regression,Random Forest\n",
    "Train-Test Split: Split the dataset into training and testing sets.\n",
    "Model Training: Train the selected models on the training set. \n",
    "    \n",
    "Compare Performance: Compare the performance of different models based on evaluation metrics.\n",
    "Select Best Model: Choose the model with the best performance."
   ]
  },
  {
   "cell_type": "markdown",
   "id": "a788c1ee-cc0b-4532-91ce-5f2c845d72cc",
   "metadata": {},
   "source": [
    "2>What will be your approach to solving this task?\n",
    "Data Exploration:\n",
    "Explore the dataset to understand its structure, features, and distribution.\n",
    "\n",
    " Data Cleaning and Preprocessing:\n",
    "Handle missing values: Impute missing values or remove rows with missing data.\n",
    "Identify and handle outliers: Use statistical methods or visualization techniques to detect and handle outliers appropriately.\n",
    "Convert categorical variables into numerical format: Encode categorical variables like college, city, and role into numerical format.\n",
    "Create dummy variables for categorical variables: Convert categorical variables like role into dummy variables to incorporate them into th\n",
    "edel.\n",
    " Feature Engineering:\n",
    "Create new features if necessary: Generate new features that may be predictive of salary, such as years of experience squared o\n",
    "Model Selection and Training:\n",
    "Choose regression models: Experiment with different regression models such as Linear Regression, Random Forest Regression, Gradient Boosting Regression, etc.\n",
    "Split the dataset into training and testing sets.\n",
    "Train the selected models on the training set."
   ]
  },
  {
   "cell_type": "markdown",
   "id": "8358bad2-52fe-4cdf-bf23-514d7dbf1568",
   "metadata": {},
   "source": [
    "3> What were the available ML model options you had to perform this task?\n",
    "To solve this task, we have several options for regression models that\n",
    "can be applied to predict salary.\n",
    "                                                                                 \n",
    "linear Regression\n",
    "Lasso Regression\n",
    "Ridge Regression\n",
    "Random Forest Regression"
   ]
  },
  {
   "cell_type": "markdown",
   "id": "8fb80ac6-831a-418a-a08f-fca743fb86a7",
   "metadata": {},
   "source": [
    "4> Which model’s performance is best and what could be the possible reason for that?\n",
    "linear Regression \n",
    "random forest\n",
    "I would start with a Linear Regression model \n",
    "as it's simple, interpretable, and serves as a good baseline. \n",
    "Linear Regression assumes a linear relationship between the features and the target variable, \n",
    "which can be a reasonable assumption in many cases.\n"
   ]
  },
  {
   "cell_type": "markdown",
   "id": "fdda2ba8-f9fb-4af9-99ae-49fcb7ab33fd",
   "metadata": {},
   "source": [
    "5>What steps can you take to improve this selected model’s performance even further?\n",
    "to improve the performance of linear refression mpdel i used lasso and RIdge regression also \n",
    "applied the random forest algorithm to enhance the performance of model with n_estimators = 200\n",
    "\n",
    "Further Improvements:\n",
    "Conduct more in-depth feature engineering to create additional relevant features.\n",
    "Experiment with ensemble methods like model stacking to combine multiple models for improved accuracy.\n",
    "Gather more data or refine existing data to improve the quality of the predictions.\n",
    "Continuously monitor and update the model to adapt to changing data patterns and business requirements."
   ]
  }
 ],
 "metadata": {
  "kernelspec": {
   "display_name": "Python 3 (ipykernel)",
   "language": "python",
   "name": "python3"
  },
  "language_info": {
   "codemirror_mode": {
    "name": "ipython",
    "version": 3
   },
   "file_extension": ".py",
   "mimetype": "text/x-python",
   "name": "python",
   "nbconvert_exporter": "python",
   "pygments_lexer": "ipython3",
   "version": "3.11.7"
  }
 },
 "nbformat": 4,
 "nbformat_minor": 5
}
